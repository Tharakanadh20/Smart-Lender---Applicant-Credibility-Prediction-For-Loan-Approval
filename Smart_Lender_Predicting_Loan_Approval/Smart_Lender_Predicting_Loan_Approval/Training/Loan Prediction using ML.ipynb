{
  "cells": [
    {
      "cell_type": "markdown",
      "metadata": {},
      "source": [
        "## SMART LENDER - APPLICANT CREDIBILITY PREDICTION FOR LOAN APPROVAL"
      ]
    },
    {
      "cell_type": "markdown",
      "metadata": {},
      "source": [
        "    ''' \n",
        "    One of the most important factors which affect our country’s economy and financial condition is the credit \n",
        "    system governed by the banks. The process of bank credit risk evaluation is recognized at banks across \n",
        "    the globe. “As we know credit risk evaluation is very crucial, there is a variety of techniques are used \n",
        "    for risk level calculation. In addition, credit risk is one of the main functions of the banking community.\n",
        "\n",
        "    The prediction of credit defaulters is one of the difficult tasks for any bank. But by forecasting the loan \n",
        "    defaulters, the banks definitely may reduce their loss by reducing their non-profit assets, so that recovery \n",
        "    of approved loans can take place without any loss and it can play as the contributing parameter of the bank \n",
        "    statement. This makes the study of this loan approval prediction important. Machine Learning techniques are\n",
        "    very crucial and useful in the prediction of these types of data.\n",
        "    \n",
        "    A loan is a sum of money that is borrowed and repaid over a period of time, typically with interest. There\n",
        "    are various types of loans available to individuals and businesses, such as personal loans, mortgages,\n",
        "    auto loans, student loans, business loans and many more.They are offered by banks, credit unions, and\n",
        "    other financial institutions, and the terms of the loan, such as interest rate, repayment period, and fees,\n",
        "    vary depending on the lender and the type of loan.\n",
        "\n",
        "    A personal loan is a type of unsecured loan that can be used for a variety of expenses such as home\n",
        "    repairs, medical expenses, debt consolidation, and more. The loan amount, interest rate, and repayment\n",
        "    period vary depending on the lender and the borrower's creditworthiness.To qualify for a personal loan,\n",
        "    borrowers typically need to provide proof of income and have a good credit score.\n",
        "\n",
        "    Predicting personal loan approval using machine learning analyses a borrower's financial data and credit\n",
        "    history to determine the likelihood of loan approval. This can help financial institutions to make more\n",
        "    informed decisions about which loan applications to approve and which to deny. \n",
        "    \n",
        "    We will be using classification algorithms such as Decision tree, Random forest, KNN, and xgboost. \n",
        "    We will train and test the data with these algorithms. From this best model is selected and saved in pkl format. \n",
        "    We will be doing flask integration and IBM deployment'''"
      ]
    },
    {
      "cell_type": "markdown",
      "metadata": {
        "id": "8L70_Uz-Mtgf"
      },
      "source": [
        "## DATA COLLECTION\n",
        "  1. COLLECTING THE DATA\n",
        "\n",
        "  2. IMPORTING THE LIBRARIES\n",
        "  \n",
        "  3. READ THE DATASET"
      ]
    },
    {
      "cell_type": "code",
      "execution_count": 1,
      "metadata": {
        "ExecuteTime": {
          "end_time": "2023-11-01T16:46:35.893323500Z",
          "start_time": "2023-11-01T16:46:35.702879700Z"
        },
        "id": "CEKqJ6wpMtgm"
      },
      "outputs": [],
      "source": [
        "# Importing the Necessary Libraries\n",
        "import pandas as pd\n",
        "import numpy as np\n",
        "import pickle\n",
        "import matplotlib.pyplot as plt\n",
        "import seaborn as sns\n",
        "import sklearn\n",
        "from sklearn.tree import DecisionTreeClassifier\n",
        "from sklearn.ensemble import GradientBoostingClassifier, RandomForestClassifier\n",
        "from sklearn.neighbors import KNeighborsClassifier\n",
        "from sklearn.model_selection import RandomizedSearchCV\n",
        "import imblearn\n",
        "from sklearn.model_selection import train_test_split\n",
        "from sklearn.preprocessing import StandardScaler\n",
        "from sklearn.metrics import accuracy_score, classification_report, confusion_matrix, f1_score"
      ]
    },
    {
      "cell_type": "code",
      "execution_count": 2,
      "metadata": {
        "ExecuteTime": {
          "start_time": "2023-11-01T16:46:35.893323500Z"
        },
        "colab": {
          "base_uri": "https://localhost:8080/",
          "height": 461
        },
        "id": "FtcBGQpQMtgq",
        "outputId": "7ec5d596-dc8b-4c01-82dc-b91dda4d8882"
      },
      "outputs": [
        {
          "data": {
            "text/html": [
              "<div>\n",
              "<style scoped>\n",
              "    .dataframe tbody tr th:only-of-type {\n",
              "        vertical-align: middle;\n",
              "    }\n",
              "\n",
              "    .dataframe tbody tr th {\n",
              "        vertical-align: top;\n",
              "    }\n",
              "\n",
              "    .dataframe thead th {\n",
              "        text-align: right;\n",
              "    }\n",
              "</style>\n",
              "<table border=\"1\" class=\"dataframe\">\n",
              "  <thead>\n",
              "    <tr style=\"text-align: right;\">\n",
              "      <th></th>\n",
              "      <th>Loan_ID</th>\n",
              "      <th>Gender</th>\n",
              "      <th>Married</th>\n",
              "      <th>Dependents</th>\n",
              "      <th>Education</th>\n",
              "      <th>Self_Employed</th>\n",
              "      <th>ApplicantIncome</th>\n",
              "      <th>CoapplicantIncome</th>\n",
              "      <th>LoanAmount</th>\n",
              "      <th>Loan_Amount_Term</th>\n",
              "      <th>Credit_History</th>\n",
              "      <th>Property_Area</th>\n",
              "      <th>Loan_Status</th>\n",
              "    </tr>\n",
              "  </thead>\n",
              "  <tbody>\n",
              "    <tr>\n",
              "      <th>0</th>\n",
              "      <td>LP001002</td>\n",
              "      <td>Male</td>\n",
              "      <td>No</td>\n",
              "      <td>0</td>\n",
              "      <td>Graduate</td>\n",
              "      <td>No</td>\n",
              "      <td>5849</td>\n",
              "      <td>0.0</td>\n",
              "      <td>NaN</td>\n",
              "      <td>360.0</td>\n",
              "      <td>1.0</td>\n",
              "      <td>Urban</td>\n",
              "      <td>Y</td>\n",
              "    </tr>\n",
              "    <tr>\n",
              "      <th>1</th>\n",
              "      <td>LP001003</td>\n",
              "      <td>Male</td>\n",
              "      <td>Yes</td>\n",
              "      <td>1</td>\n",
              "      <td>Graduate</td>\n",
              "      <td>No</td>\n",
              "      <td>4583</td>\n",
              "      <td>1508.0</td>\n",
              "      <td>128.0</td>\n",
              "      <td>360.0</td>\n",
              "      <td>1.0</td>\n",
              "      <td>Rural</td>\n",
              "      <td>N</td>\n",
              "    </tr>\n",
              "    <tr>\n",
              "      <th>2</th>\n",
              "      <td>LP001005</td>\n",
              "      <td>Male</td>\n",
              "      <td>Yes</td>\n",
              "      <td>0</td>\n",
              "      <td>Graduate</td>\n",
              "      <td>Yes</td>\n",
              "      <td>3000</td>\n",
              "      <td>0.0</td>\n",
              "      <td>66.0</td>\n",
              "      <td>360.0</td>\n",
              "      <td>1.0</td>\n",
              "      <td>Urban</td>\n",
              "      <td>Y</td>\n",
              "    </tr>\n",
              "    <tr>\n",
              "      <th>3</th>\n",
              "      <td>LP001006</td>\n",
              "      <td>Male</td>\n",
              "      <td>Yes</td>\n",
              "      <td>0</td>\n",
              "      <td>Not Graduate</td>\n",
              "      <td>No</td>\n",
              "      <td>2583</td>\n",
              "      <td>2358.0</td>\n",
              "      <td>120.0</td>\n",
              "      <td>360.0</td>\n",
              "      <td>1.0</td>\n",
              "      <td>Urban</td>\n",
              "      <td>Y</td>\n",
              "    </tr>\n",
              "    <tr>\n",
              "      <th>4</th>\n",
              "      <td>LP001008</td>\n",
              "      <td>Male</td>\n",
              "      <td>No</td>\n",
              "      <td>0</td>\n",
              "      <td>Graduate</td>\n",
              "      <td>No</td>\n",
              "      <td>6000</td>\n",
              "      <td>0.0</td>\n",
              "      <td>141.0</td>\n",
              "      <td>360.0</td>\n",
              "      <td>1.0</td>\n",
              "      <td>Urban</td>\n",
              "      <td>Y</td>\n",
              "    </tr>\n",
              "    <tr>\n",
              "      <th>...</th>\n",
              "      <td>...</td>\n",
              "      <td>...</td>\n",
              "      <td>...</td>\n",
              "      <td>...</td>\n",
              "      <td>...</td>\n",
              "      <td>...</td>\n",
              "      <td>...</td>\n",
              "      <td>...</td>\n",
              "      <td>...</td>\n",
              "      <td>...</td>\n",
              "      <td>...</td>\n",
              "      <td>...</td>\n",
              "      <td>...</td>\n",
              "    </tr>\n",
              "    <tr>\n",
              "      <th>609</th>\n",
              "      <td>LP002978</td>\n",
              "      <td>Female</td>\n",
              "      <td>No</td>\n",
              "      <td>0</td>\n",
              "      <td>Graduate</td>\n",
              "      <td>No</td>\n",
              "      <td>2900</td>\n",
              "      <td>0.0</td>\n",
              "      <td>71.0</td>\n",
              "      <td>360.0</td>\n",
              "      <td>1.0</td>\n",
              "      <td>Rural</td>\n",
              "      <td>Y</td>\n",
              "    </tr>\n",
              "    <tr>\n",
              "      <th>610</th>\n",
              "      <td>LP002979</td>\n",
              "      <td>Male</td>\n",
              "      <td>Yes</td>\n",
              "      <td>3+</td>\n",
              "      <td>Graduate</td>\n",
              "      <td>No</td>\n",
              "      <td>4106</td>\n",
              "      <td>0.0</td>\n",
              "      <td>40.0</td>\n",
              "      <td>180.0</td>\n",
              "      <td>1.0</td>\n",
              "      <td>Rural</td>\n",
              "      <td>Y</td>\n",
              "    </tr>\n",
              "    <tr>\n",
              "      <th>611</th>\n",
              "      <td>LP002983</td>\n",
              "      <td>Male</td>\n",
              "      <td>Yes</td>\n",
              "      <td>1</td>\n",
              "      <td>Graduate</td>\n",
              "      <td>No</td>\n",
              "      <td>8072</td>\n",
              "      <td>240.0</td>\n",
              "      <td>253.0</td>\n",
              "      <td>360.0</td>\n",
              "      <td>1.0</td>\n",
              "      <td>Urban</td>\n",
              "      <td>Y</td>\n",
              "    </tr>\n",
              "    <tr>\n",
              "      <th>612</th>\n",
              "      <td>LP002984</td>\n",
              "      <td>Male</td>\n",
              "      <td>Yes</td>\n",
              "      <td>2</td>\n",
              "      <td>Graduate</td>\n",
              "      <td>No</td>\n",
              "      <td>7583</td>\n",
              "      <td>0.0</td>\n",
              "      <td>187.0</td>\n",
              "      <td>360.0</td>\n",
              "      <td>1.0</td>\n",
              "      <td>Urban</td>\n",
              "      <td>Y</td>\n",
              "    </tr>\n",
              "    <tr>\n",
              "      <th>613</th>\n",
              "      <td>LP002990</td>\n",
              "      <td>Female</td>\n",
              "      <td>No</td>\n",
              "      <td>0</td>\n",
              "      <td>Graduate</td>\n",
              "      <td>Yes</td>\n",
              "      <td>4583</td>\n",
              "      <td>0.0</td>\n",
              "      <td>133.0</td>\n",
              "      <td>360.0</td>\n",
              "      <td>0.0</td>\n",
              "      <td>Semiurban</td>\n",
              "      <td>N</td>\n",
              "    </tr>\n",
              "  </tbody>\n",
              "</table>\n",
              "<p>614 rows × 13 columns</p>\n",
              "</div>"
            ],
            "text/plain": [
              "      Loan_ID  Gender Married Dependents     Education Self_Employed  \\\n",
              "0    LP001002    Male      No          0      Graduate            No   \n",
              "1    LP001003    Male     Yes          1      Graduate            No   \n",
              "2    LP001005    Male     Yes          0      Graduate           Yes   \n",
              "3    LP001006    Male     Yes          0  Not Graduate            No   \n",
              "4    LP001008    Male      No          0      Graduate            No   \n",
              "..        ...     ...     ...        ...           ...           ...   \n",
              "609  LP002978  Female      No          0      Graduate            No   \n",
              "610  LP002979    Male     Yes         3+      Graduate            No   \n",
              "611  LP002983    Male     Yes          1      Graduate            No   \n",
              "612  LP002984    Male     Yes          2      Graduate            No   \n",
              "613  LP002990  Female      No          0      Graduate           Yes   \n",
              "\n",
              "     ApplicantIncome  CoapplicantIncome  LoanAmount  Loan_Amount_Term  \\\n",
              "0               5849                0.0         NaN             360.0   \n",
              "1               4583             1508.0       128.0             360.0   \n",
              "2               3000                0.0        66.0             360.0   \n",
              "3               2583             2358.0       120.0             360.0   \n",
              "4               6000                0.0       141.0             360.0   \n",
              "..               ...                ...         ...               ...   \n",
              "609             2900                0.0        71.0             360.0   \n",
              "610             4106                0.0        40.0             180.0   \n",
              "611             8072              240.0       253.0             360.0   \n",
              "612             7583                0.0       187.0             360.0   \n",
              "613             4583                0.0       133.0             360.0   \n",
              "\n",
              "     Credit_History Property_Area Loan_Status  \n",
              "0               1.0         Urban           Y  \n",
              "1               1.0         Rural           N  \n",
              "2               1.0         Urban           Y  \n",
              "3               1.0         Urban           Y  \n",
              "4               1.0         Urban           Y  \n",
              "..              ...           ...         ...  \n",
              "609             1.0         Rural           Y  \n",
              "610             1.0         Rural           Y  \n",
              "611             1.0         Urban           Y  \n",
              "612             1.0         Urban           Y  \n",
              "613             0.0     Semiurban           N  \n",
              "\n",
              "[614 rows x 13 columns]"
            ]
          },
          "execution_count": 2,
          "metadata": {},
          "output_type": "execute_result"
        }
      ],
      "source": [
        "# Reading the Dataset\n",
        "# Importing the dataset which is in csv file\n",
        "\n",
        "data = pd.read_csv('F:\\VIT AP\\DATA SCIENCE EXTERNSHIP\\SmartIntern Data Science Project\\Smart_Lender_Predicting_Loan_Approval\\Dataset\\loan_prediction.csv')\n",
        "data"
      ]
    },
    {
      "cell_type": "code",
      "execution_count": 3,
      "metadata": {
        "ExecuteTime": {
          "start_time": "2023-11-01T16:46:35.893323500Z"
        },
        "colab": {
          "base_uri": "https://localhost:8080/",
          "height": 243
        },
        "id": "o8oHDbtCMtgr",
        "outputId": "3e1a2908-2eca-4caa-94f5-5fc00ee27450"
      },
      "outputs": [
        {
          "data": {
            "text/html": [
              "<div>\n",
              "<style scoped>\n",
              "    .dataframe tbody tr th:only-of-type {\n",
              "        vertical-align: middle;\n",
              "    }\n",
              "\n",
              "    .dataframe tbody tr th {\n",
              "        vertical-align: top;\n",
              "    }\n",
              "\n",
              "    .dataframe thead th {\n",
              "        text-align: right;\n",
              "    }\n",
              "</style>\n",
              "<table border=\"1\" class=\"dataframe\">\n",
              "  <thead>\n",
              "    <tr style=\"text-align: right;\">\n",
              "      <th></th>\n",
              "      <th>Loan_ID</th>\n",
              "      <th>Gender</th>\n",
              "      <th>Married</th>\n",
              "      <th>Dependents</th>\n",
              "      <th>Education</th>\n",
              "      <th>Self_Employed</th>\n",
              "      <th>ApplicantIncome</th>\n",
              "      <th>CoapplicantIncome</th>\n",
              "      <th>LoanAmount</th>\n",
              "      <th>Loan_Amount_Term</th>\n",
              "      <th>Credit_History</th>\n",
              "      <th>Property_Area</th>\n",
              "      <th>Loan_Status</th>\n",
              "    </tr>\n",
              "  </thead>\n",
              "  <tbody>\n",
              "    <tr>\n",
              "      <th>0</th>\n",
              "      <td>LP001002</td>\n",
              "      <td>Male</td>\n",
              "      <td>No</td>\n",
              "      <td>0</td>\n",
              "      <td>Graduate</td>\n",
              "      <td>No</td>\n",
              "      <td>5849</td>\n",
              "      <td>0.0</td>\n",
              "      <td>NaN</td>\n",
              "      <td>360.0</td>\n",
              "      <td>1.0</td>\n",
              "      <td>Urban</td>\n",
              "      <td>Y</td>\n",
              "    </tr>\n",
              "    <tr>\n",
              "      <th>1</th>\n",
              "      <td>LP001003</td>\n",
              "      <td>Male</td>\n",
              "      <td>Yes</td>\n",
              "      <td>1</td>\n",
              "      <td>Graduate</td>\n",
              "      <td>No</td>\n",
              "      <td>4583</td>\n",
              "      <td>1508.0</td>\n",
              "      <td>128.0</td>\n",
              "      <td>360.0</td>\n",
              "      <td>1.0</td>\n",
              "      <td>Rural</td>\n",
              "      <td>N</td>\n",
              "    </tr>\n",
              "    <tr>\n",
              "      <th>2</th>\n",
              "      <td>LP001005</td>\n",
              "      <td>Male</td>\n",
              "      <td>Yes</td>\n",
              "      <td>0</td>\n",
              "      <td>Graduate</td>\n",
              "      <td>Yes</td>\n",
              "      <td>3000</td>\n",
              "      <td>0.0</td>\n",
              "      <td>66.0</td>\n",
              "      <td>360.0</td>\n",
              "      <td>1.0</td>\n",
              "      <td>Urban</td>\n",
              "      <td>Y</td>\n",
              "    </tr>\n",
              "    <tr>\n",
              "      <th>3</th>\n",
              "      <td>LP001006</td>\n",
              "      <td>Male</td>\n",
              "      <td>Yes</td>\n",
              "      <td>0</td>\n",
              "      <td>Not Graduate</td>\n",
              "      <td>No</td>\n",
              "      <td>2583</td>\n",
              "      <td>2358.0</td>\n",
              "      <td>120.0</td>\n",
              "      <td>360.0</td>\n",
              "      <td>1.0</td>\n",
              "      <td>Urban</td>\n",
              "      <td>Y</td>\n",
              "    </tr>\n",
              "    <tr>\n",
              "      <th>4</th>\n",
              "      <td>LP001008</td>\n",
              "      <td>Male</td>\n",
              "      <td>No</td>\n",
              "      <td>0</td>\n",
              "      <td>Graduate</td>\n",
              "      <td>No</td>\n",
              "      <td>6000</td>\n",
              "      <td>0.0</td>\n",
              "      <td>141.0</td>\n",
              "      <td>360.0</td>\n",
              "      <td>1.0</td>\n",
              "      <td>Urban</td>\n",
              "      <td>Y</td>\n",
              "    </tr>\n",
              "  </tbody>\n",
              "</table>\n",
              "</div>"
            ],
            "text/plain": [
              "    Loan_ID Gender Married Dependents     Education Self_Employed  \\\n",
              "0  LP001002   Male      No          0      Graduate            No   \n",
              "1  LP001003   Male     Yes          1      Graduate            No   \n",
              "2  LP001005   Male     Yes          0      Graduate           Yes   \n",
              "3  LP001006   Male     Yes          0  Not Graduate            No   \n",
              "4  LP001008   Male      No          0      Graduate            No   \n",
              "\n",
              "   ApplicantIncome  CoapplicantIncome  LoanAmount  Loan_Amount_Term  \\\n",
              "0             5849                0.0         NaN             360.0   \n",
              "1             4583             1508.0       128.0             360.0   \n",
              "2             3000                0.0        66.0             360.0   \n",
              "3             2583             2358.0       120.0             360.0   \n",
              "4             6000                0.0       141.0             360.0   \n",
              "\n",
              "   Credit_History Property_Area Loan_Status  \n",
              "0             1.0         Urban           Y  \n",
              "1             1.0         Rural           N  \n",
              "2             1.0         Urban           Y  \n",
              "3             1.0         Urban           Y  \n",
              "4             1.0         Urban           Y  "
            ]
          },
          "execution_count": 3,
          "metadata": {},
          "output_type": "execute_result"
        }
      ],
      "source": [
        "# Getting first five observations from the dataset\n",
        "data.head()"
      ]
    },
    {
      "cell_type": "code",
      "execution_count": 4,
      "metadata": {
        "ExecuteTime": {
          "start_time": "2023-11-01T16:46:35.893323500Z"
        },
        "colab": {
          "base_uri": "https://localhost:8080/",
          "height": 226
        },
        "id": "_YPQRMhwMtgs",
        "outputId": "b5e3d4b0-25a2-4e91-ad8c-748faf7390ff"
      },
      "outputs": [
        {
          "data": {
            "text/html": [
              "<div>\n",
              "<style scoped>\n",
              "    .dataframe tbody tr th:only-of-type {\n",
              "        vertical-align: middle;\n",
              "    }\n",
              "\n",
              "    .dataframe tbody tr th {\n",
              "        vertical-align: top;\n",
              "    }\n",
              "\n",
              "    .dataframe thead th {\n",
              "        text-align: right;\n",
              "    }\n",
              "</style>\n",
              "<table border=\"1\" class=\"dataframe\">\n",
              "  <thead>\n",
              "    <tr style=\"text-align: right;\">\n",
              "      <th></th>\n",
              "      <th>Loan_ID</th>\n",
              "      <th>Gender</th>\n",
              "      <th>Married</th>\n",
              "      <th>Dependents</th>\n",
              "      <th>Education</th>\n",
              "      <th>Self_Employed</th>\n",
              "      <th>ApplicantIncome</th>\n",
              "      <th>CoapplicantIncome</th>\n",
              "      <th>LoanAmount</th>\n",
              "      <th>Loan_Amount_Term</th>\n",
              "      <th>Credit_History</th>\n",
              "      <th>Property_Area</th>\n",
              "      <th>Loan_Status</th>\n",
              "    </tr>\n",
              "  </thead>\n",
              "  <tbody>\n",
              "    <tr>\n",
              "      <th>609</th>\n",
              "      <td>LP002978</td>\n",
              "      <td>Female</td>\n",
              "      <td>No</td>\n",
              "      <td>0</td>\n",
              "      <td>Graduate</td>\n",
              "      <td>No</td>\n",
              "      <td>2900</td>\n",
              "      <td>0.0</td>\n",
              "      <td>71.0</td>\n",
              "      <td>360.0</td>\n",
              "      <td>1.0</td>\n",
              "      <td>Rural</td>\n",
              "      <td>Y</td>\n",
              "    </tr>\n",
              "    <tr>\n",
              "      <th>610</th>\n",
              "      <td>LP002979</td>\n",
              "      <td>Male</td>\n",
              "      <td>Yes</td>\n",
              "      <td>3+</td>\n",
              "      <td>Graduate</td>\n",
              "      <td>No</td>\n",
              "      <td>4106</td>\n",
              "      <td>0.0</td>\n",
              "      <td>40.0</td>\n",
              "      <td>180.0</td>\n",
              "      <td>1.0</td>\n",
              "      <td>Rural</td>\n",
              "      <td>Y</td>\n",
              "    </tr>\n",
              "    <tr>\n",
              "      <th>611</th>\n",
              "      <td>LP002983</td>\n",
              "      <td>Male</td>\n",
              "      <td>Yes</td>\n",
              "      <td>1</td>\n",
              "      <td>Graduate</td>\n",
              "      <td>No</td>\n",
              "      <td>8072</td>\n",
              "      <td>240.0</td>\n",
              "      <td>253.0</td>\n",
              "      <td>360.0</td>\n",
              "      <td>1.0</td>\n",
              "      <td>Urban</td>\n",
              "      <td>Y</td>\n",
              "    </tr>\n",
              "    <tr>\n",
              "      <th>612</th>\n",
              "      <td>LP002984</td>\n",
              "      <td>Male</td>\n",
              "      <td>Yes</td>\n",
              "      <td>2</td>\n",
              "      <td>Graduate</td>\n",
              "      <td>No</td>\n",
              "      <td>7583</td>\n",
              "      <td>0.0</td>\n",
              "      <td>187.0</td>\n",
              "      <td>360.0</td>\n",
              "      <td>1.0</td>\n",
              "      <td>Urban</td>\n",
              "      <td>Y</td>\n",
              "    </tr>\n",
              "    <tr>\n",
              "      <th>613</th>\n",
              "      <td>LP002990</td>\n",
              "      <td>Female</td>\n",
              "      <td>No</td>\n",
              "      <td>0</td>\n",
              "      <td>Graduate</td>\n",
              "      <td>Yes</td>\n",
              "      <td>4583</td>\n",
              "      <td>0.0</td>\n",
              "      <td>133.0</td>\n",
              "      <td>360.0</td>\n",
              "      <td>0.0</td>\n",
              "      <td>Semiurban</td>\n",
              "      <td>N</td>\n",
              "    </tr>\n",
              "  </tbody>\n",
              "</table>\n",
              "</div>"
            ],
            "text/plain": [
              "      Loan_ID  Gender Married Dependents Education Self_Employed  \\\n",
              "609  LP002978  Female      No          0  Graduate            No   \n",
              "610  LP002979    Male     Yes         3+  Graduate            No   \n",
              "611  LP002983    Male     Yes          1  Graduate            No   \n",
              "612  LP002984    Male     Yes          2  Graduate            No   \n",
              "613  LP002990  Female      No          0  Graduate           Yes   \n",
              "\n",
              "     ApplicantIncome  CoapplicantIncome  LoanAmount  Loan_Amount_Term  \\\n",
              "609             2900                0.0        71.0             360.0   \n",
              "610             4106                0.0        40.0             180.0   \n",
              "611             8072              240.0       253.0             360.0   \n",
              "612             7583                0.0       187.0             360.0   \n",
              "613             4583                0.0       133.0             360.0   \n",
              "\n",
              "     Credit_History Property_Area Loan_Status  \n",
              "609             1.0         Rural           Y  \n",
              "610             1.0         Rural           Y  \n",
              "611             1.0         Urban           Y  \n",
              "612             1.0         Urban           Y  \n",
              "613             0.0     Semiurban           N  "
            ]
          },
          "execution_count": 4,
          "metadata": {},
          "output_type": "execute_result"
        }
      ],
      "source": [
        "# Getting last five observations from the dataset\n",
        "data.tail()"
      ]
    },
    {
      "cell_type": "code",
      "execution_count": 5,
      "metadata": {
        "ExecuteTime": {
          "start_time": "2023-11-01T16:46:35.893323500Z"
        },
        "colab": {
          "base_uri": "https://localhost:8080/"
        },
        "id": "j7-b8CUGMtgs",
        "outputId": "edcd045d-5a36-44b2-d12f-ba4020fa941a"
      },
      "outputs": [
        {
          "data": {
            "text/plain": [
              "(614, 13)"
            ]
          },
          "execution_count": 5,
          "metadata": {},
          "output_type": "execute_result"
        }
      ],
      "source": [
        "# Checking the size of the dataset\n",
        "data.shape"
      ]
    },
    {
      "cell_type": "markdown",
      "metadata": {
        "id": "dh-ALvpeMtgt"
      },
      "source": [
        "## DATA PREPARATION\n",
        "   1. HANDLING MISSING VALUES\n",
        "\n",
        "   2. HANDLING CATEGORICAL DATA\n",
        "   \n",
        "   3. HANDLING IMBALANCE DATA"
      ]
    },
    {
      "cell_type": "code",
      "execution_count": 6,
      "metadata": {
        "ExecuteTime": {
          "start_time": "2023-11-01T16:46:35.906840100Z"
        },
        "colab": {
          "base_uri": "https://localhost:8080/"
        },
        "id": "jNpcGHXWMtgt",
        "outputId": "d2fe55b9-17ff-41a5-9a0a-b0dafd40b12a"
      },
      "outputs": [
        {
          "name": "stdout",
          "output_type": "stream",
          "text": [
            "<class 'pandas.core.frame.DataFrame'>\n",
            "RangeIndex: 614 entries, 0 to 613\n",
            "Data columns (total 13 columns):\n",
            " #   Column             Non-Null Count  Dtype  \n",
            "---  ------             --------------  -----  \n",
            " 0   Loan_ID            614 non-null    object \n",
            " 1   Gender             601 non-null    object \n",
            " 2   Married            611 non-null    object \n",
            " 3   Dependents         599 non-null    object \n",
            " 4   Education          614 non-null    object \n",
            " 5   Self_Employed      582 non-null    object \n",
            " 6   ApplicantIncome    614 non-null    int64  \n",
            " 7   CoapplicantIncome  614 non-null    float64\n",
            " 8   LoanAmount         592 non-null    float64\n",
            " 9   Loan_Amount_Term   600 non-null    float64\n",
            " 10  Credit_History     564 non-null    float64\n",
            " 11  Property_Area      614 non-null    object \n",
            " 12  Loan_Status        614 non-null    object \n",
            "dtypes: float64(4), int64(1), object(8)\n",
            "memory usage: 62.5+ KB\n"
          ]
        }
      ],
      "source": [
        "# Handling the missing value\n",
        "data.info()"
      ]
    },
    {
      "cell_type": "code",
      "execution_count": 7,
      "metadata": {
        "ExecuteTime": {
          "start_time": "2023-11-01T16:46:35.906840100Z"
        },
        "colab": {
          "base_uri": "https://localhost:8080/"
        },
        "id": "5hNj7Gz5Mtgu",
        "outputId": "bffaec79-87fc-498b-8e8f-c07608448edf"
      },
      "outputs": [
        {
          "data": {
            "text/plain": [
              "Loan_ID              False\n",
              "Gender                True\n",
              "Married               True\n",
              "Dependents            True\n",
              "Education            False\n",
              "Self_Employed         True\n",
              "ApplicantIncome      False\n",
              "CoapplicantIncome    False\n",
              "LoanAmount            True\n",
              "Loan_Amount_Term      True\n",
              "Credit_History        True\n",
              "Property_Area        False\n",
              "Loan_Status          False\n",
              "dtype: bool"
            ]
          },
          "execution_count": 7,
          "metadata": {},
          "output_type": "execute_result"
        }
      ],
      "source": [
        "# Checking the Null Values\n",
        "data.isnull().any()"
      ]
    },
    {
      "cell_type": "code",
      "execution_count": 8,
      "metadata": {
        "ExecuteTime": {
          "start_time": "2023-11-01T16:46:35.906840100Z"
        },
        "colab": {
          "base_uri": "https://localhost:8080/"
        },
        "id": "j-C0ekScMtgu",
        "outputId": "24f2d275-f8f9-448e-c589-d91e6d9561ea"
      },
      "outputs": [
        {
          "data": {
            "text/plain": [
              "Loan_ID               0\n",
              "Gender               13\n",
              "Married               3\n",
              "Dependents           15\n",
              "Education             0\n",
              "Self_Employed        32\n",
              "ApplicantIncome       0\n",
              "CoapplicantIncome     0\n",
              "LoanAmount           22\n",
              "Loan_Amount_Term     14\n",
              "Credit_History       50\n",
              "Property_Area         0\n",
              "Loan_Status           0\n",
              "dtype: int64"
            ]
          },
          "execution_count": 8,
          "metadata": {},
          "output_type": "execute_result"
        }
      ],
      "source": [
        "# finding the sum of null values in each column\n",
        "data.isnull().sum()"
      ]
    },
    {
      "cell_type": "markdown",
      "metadata": {
        "id": "BB0Rm8BhMtgv"
      },
      "source": [
        "'''\n",
        "\n",
        "    From the above code analysis, we can analyze that columns such as Gender, Married, Dependents,\n",
        "    Self_Employed, LoanAmount, Loan_Amount_Term and Credit History are having the null values.\n",
        "\n",
        "    Here the all the missing values in the columns belong to the categorical data.\n",
        "\n",
        "    While Handling with missing values in the categorical data type, we will replace the missing\n",
        "    values with the MODE (Most repeated value occurred) in the column.\n",
        "\n",
        "    While Handling with missing values in the numerical data type, we will replace the missing\n",
        "    values with the MEAN Value of that particular column.\n",
        "'''"
      ]
    },
    {
      "cell_type": "code",
      "execution_count": 9,
      "metadata": {
        "ExecuteTime": {
          "start_time": "2023-11-01T16:46:35.906840100Z"
        },
        "id": "VeuIdcF3Mtgv"
      },
      "outputs": [],
      "source": [
        "#Filling all Nan values with mode of respective variable\n",
        "data[\"Gender\"].fillna(data[\"Gender\"].mode()[0],inplace=True)\n",
        "data[\"Married\"].fillna(data[\"Married\"].mode()[0],inplace=True)\n",
        "data[\"Self_Employed\"].fillna(data[\"Self_Employed\"].mode()[0],inplace=True)\n",
        "data[\"Loan_Amount_Term\"].fillna(data[\"Loan_Amount_Term\"].mode()[0],inplace=True)\n",
        "data[\"Dependents\"].fillna(data[\"Dependents\"].mode()[0],inplace=True)\n",
        "data[\"Credit_History\"].fillna(data[\"Credit_History\"].mode()[0],inplace=True)\n",
        "\n",
        "#All values of \"Dependents\" columns were of \"str\" form now converting to \"int\" form.\n",
        "data[\"Dependents\"] = data[\"Dependents\"].replace('3+',int(3))\n",
        "data[\"Dependents\"] = data[\"Dependents\"].replace('1',int(1))\n",
        "data[\"Dependents\"] = data[\"Dependents\"].replace('2',int(2))\n",
        "data[\"Dependents\"] = data[\"Dependents\"].replace('0',int(0))\n",
        "\n",
        "data[\"LoanAmount\"].fillna(data[\"LoanAmount\"].median(),inplace=True)"
      ]
    },
    {
      "cell_type": "code",
      "execution_count": 10,
      "metadata": {
        "colab": {
          "base_uri": "https://localhost:8080/"
        },
        "id": "oE02ylbdMtgw",
        "outputId": "7e8ed174-c03f-44ef-b1a3-d17ba1797497"
      },
      "outputs": [
        {
          "data": {
            "text/plain": [
              "Index(['Loan_ID', 'Gender', 'Married', 'Dependents', 'Education',\n",
              "       'Self_Employed', 'ApplicantIncome', 'CoapplicantIncome', 'LoanAmount',\n",
              "       'Loan_Amount_Term', 'Credit_History', 'Property_Area', 'Loan_Status'],\n",
              "      dtype='object')"
            ]
          },
          "execution_count": 10,
          "metadata": {},
          "output_type": "execute_result"
        }
      ],
      "source": [
        "data.columns"
      ]
    },
    {
      "cell_type": "markdown",
      "metadata": {
        "id": "ukGsFzxNMtgx"
      },
      "source": [
        "## EXPLORATORY DATA ANALYSIS\n",
        "1. VISUAL ANALYSIS\n",
        "\n",
        "2. DESCRIPTIVE STATISTICAL\n",
        "\n",
        "3. SCALING THE DATA\n",
        "\n",
        "4. SPLITTING DATA INTO TRAIN AND TEST"
      ]
    },
    {
      "cell_type": "markdown",
      "metadata": {
        "id": "l1rnaeebMtgx"
      },
      "source": [
        "UNIVARIATE ANALYSIS"
      ]
    },
    {
      "cell_type": "code",
      "execution_count": 11,
      "metadata": {
        "colab": {
          "base_uri": "https://localhost:8080/",
          "height": 461
        },
        "id": "YURSdyf1Mtgx",
        "outputId": "1b9372b9-afd4-4dae-f17d-4ee7dcf140ae"
      },
      "outputs": [
        {
          "data": {
            "text/html": [
              "<div>\n",
              "<style scoped>\n",
              "    .dataframe tbody tr th:only-of-type {\n",
              "        vertical-align: middle;\n",
              "    }\n",
              "\n",
              "    .dataframe tbody tr th {\n",
              "        vertical-align: top;\n",
              "    }\n",
              "\n",
              "    .dataframe thead th {\n",
              "        text-align: right;\n",
              "    }\n",
              "</style>\n",
              "<table border=\"1\" class=\"dataframe\">\n",
              "  <thead>\n",
              "    <tr style=\"text-align: right;\">\n",
              "      <th></th>\n",
              "      <th>Loan_ID</th>\n",
              "      <th>Gender</th>\n",
              "      <th>Married</th>\n",
              "      <th>Dependents</th>\n",
              "      <th>Education</th>\n",
              "      <th>Self_Employed</th>\n",
              "      <th>ApplicantIncome</th>\n",
              "      <th>CoapplicantIncome</th>\n",
              "      <th>LoanAmount</th>\n",
              "      <th>Loan_Amount_Term</th>\n",
              "      <th>Credit_History</th>\n",
              "      <th>Property_Area</th>\n",
              "      <th>Loan_Status</th>\n",
              "    </tr>\n",
              "  </thead>\n",
              "  <tbody>\n",
              "    <tr>\n",
              "      <th>0</th>\n",
              "      <td>LP001002</td>\n",
              "      <td>Male</td>\n",
              "      <td>No</td>\n",
              "      <td>0</td>\n",
              "      <td>Graduate</td>\n",
              "      <td>No</td>\n",
              "      <td>5849</td>\n",
              "      <td>0.0</td>\n",
              "      <td>128.0</td>\n",
              "      <td>360.0</td>\n",
              "      <td>1.0</td>\n",
              "      <td>Urban</td>\n",
              "      <td>Y</td>\n",
              "    </tr>\n",
              "    <tr>\n",
              "      <th>1</th>\n",
              "      <td>LP001003</td>\n",
              "      <td>Male</td>\n",
              "      <td>Yes</td>\n",
              "      <td>1</td>\n",
              "      <td>Graduate</td>\n",
              "      <td>No</td>\n",
              "      <td>4583</td>\n",
              "      <td>1508.0</td>\n",
              "      <td>128.0</td>\n",
              "      <td>360.0</td>\n",
              "      <td>1.0</td>\n",
              "      <td>Rural</td>\n",
              "      <td>N</td>\n",
              "    </tr>\n",
              "    <tr>\n",
              "      <th>2</th>\n",
              "      <td>LP001005</td>\n",
              "      <td>Male</td>\n",
              "      <td>Yes</td>\n",
              "      <td>0</td>\n",
              "      <td>Graduate</td>\n",
              "      <td>Yes</td>\n",
              "      <td>3000</td>\n",
              "      <td>0.0</td>\n",
              "      <td>66.0</td>\n",
              "      <td>360.0</td>\n",
              "      <td>1.0</td>\n",
              "      <td>Urban</td>\n",
              "      <td>Y</td>\n",
              "    </tr>\n",
              "    <tr>\n",
              "      <th>3</th>\n",
              "      <td>LP001006</td>\n",
              "      <td>Male</td>\n",
              "      <td>Yes</td>\n",
              "      <td>0</td>\n",
              "      <td>Not Graduate</td>\n",
              "      <td>No</td>\n",
              "      <td>2583</td>\n",
              "      <td>2358.0</td>\n",
              "      <td>120.0</td>\n",
              "      <td>360.0</td>\n",
              "      <td>1.0</td>\n",
              "      <td>Urban</td>\n",
              "      <td>Y</td>\n",
              "    </tr>\n",
              "    <tr>\n",
              "      <th>4</th>\n",
              "      <td>LP001008</td>\n",
              "      <td>Male</td>\n",
              "      <td>No</td>\n",
              "      <td>0</td>\n",
              "      <td>Graduate</td>\n",
              "      <td>No</td>\n",
              "      <td>6000</td>\n",
              "      <td>0.0</td>\n",
              "      <td>141.0</td>\n",
              "      <td>360.0</td>\n",
              "      <td>1.0</td>\n",
              "      <td>Urban</td>\n",
              "      <td>Y</td>\n",
              "    </tr>\n",
              "    <tr>\n",
              "      <th>...</th>\n",
              "      <td>...</td>\n",
              "      <td>...</td>\n",
              "      <td>...</td>\n",
              "      <td>...</td>\n",
              "      <td>...</td>\n",
              "      <td>...</td>\n",
              "      <td>...</td>\n",
              "      <td>...</td>\n",
              "      <td>...</td>\n",
              "      <td>...</td>\n",
              "      <td>...</td>\n",
              "      <td>...</td>\n",
              "      <td>...</td>\n",
              "    </tr>\n",
              "    <tr>\n",
              "      <th>609</th>\n",
              "      <td>LP002978</td>\n",
              "      <td>Female</td>\n",
              "      <td>No</td>\n",
              "      <td>0</td>\n",
              "      <td>Graduate</td>\n",
              "      <td>No</td>\n",
              "      <td>2900</td>\n",
              "      <td>0.0</td>\n",
              "      <td>71.0</td>\n",
              "      <td>360.0</td>\n",
              "      <td>1.0</td>\n",
              "      <td>Rural</td>\n",
              "      <td>Y</td>\n",
              "    </tr>\n",
              "    <tr>\n",
              "      <th>610</th>\n",
              "      <td>LP002979</td>\n",
              "      <td>Male</td>\n",
              "      <td>Yes</td>\n",
              "      <td>3</td>\n",
              "      <td>Graduate</td>\n",
              "      <td>No</td>\n",
              "      <td>4106</td>\n",
              "      <td>0.0</td>\n",
              "      <td>40.0</td>\n",
              "      <td>180.0</td>\n",
              "      <td>1.0</td>\n",
              "      <td>Rural</td>\n",
              "      <td>Y</td>\n",
              "    </tr>\n",
              "    <tr>\n",
              "      <th>611</th>\n",
              "      <td>LP002983</td>\n",
              "      <td>Male</td>\n",
              "      <td>Yes</td>\n",
              "      <td>1</td>\n",
              "      <td>Graduate</td>\n",
              "      <td>No</td>\n",
              "      <td>8072</td>\n",
              "      <td>240.0</td>\n",
              "      <td>253.0</td>\n",
              "      <td>360.0</td>\n",
              "      <td>1.0</td>\n",
              "      <td>Urban</td>\n",
              "      <td>Y</td>\n",
              "    </tr>\n",
              "    <tr>\n",
              "      <th>612</th>\n",
              "      <td>LP002984</td>\n",
              "      <td>Male</td>\n",
              "      <td>Yes</td>\n",
              "      <td>2</td>\n",
              "      <td>Graduate</td>\n",
              "      <td>No</td>\n",
              "      <td>7583</td>\n",
              "      <td>0.0</td>\n",
              "      <td>187.0</td>\n",
              "      <td>360.0</td>\n",
              "      <td>1.0</td>\n",
              "      <td>Urban</td>\n",
              "      <td>Y</td>\n",
              "    </tr>\n",
              "    <tr>\n",
              "      <th>613</th>\n",
              "      <td>LP002990</td>\n",
              "      <td>Female</td>\n",
              "      <td>No</td>\n",
              "      <td>0</td>\n",
              "      <td>Graduate</td>\n",
              "      <td>Yes</td>\n",
              "      <td>4583</td>\n",
              "      <td>0.0</td>\n",
              "      <td>133.0</td>\n",
              "      <td>360.0</td>\n",
              "      <td>0.0</td>\n",
              "      <td>Semiurban</td>\n",
              "      <td>N</td>\n",
              "    </tr>\n",
              "  </tbody>\n",
              "</table>\n",
              "<p>614 rows × 13 columns</p>\n",
              "</div>"
            ],
            "text/plain": [
              "      Loan_ID  Gender Married  Dependents     Education Self_Employed  \\\n",
              "0    LP001002    Male      No           0      Graduate            No   \n",
              "1    LP001003    Male     Yes           1      Graduate            No   \n",
              "2    LP001005    Male     Yes           0      Graduate           Yes   \n",
              "3    LP001006    Male     Yes           0  Not Graduate            No   \n",
              "4    LP001008    Male      No           0      Graduate            No   \n",
              "..        ...     ...     ...         ...           ...           ...   \n",
              "609  LP002978  Female      No           0      Graduate            No   \n",
              "610  LP002979    Male     Yes           3      Graduate            No   \n",
              "611  LP002983    Male     Yes           1      Graduate            No   \n",
              "612  LP002984    Male     Yes           2      Graduate            No   \n",
              "613  LP002990  Female      No           0      Graduate           Yes   \n",
              "\n",
              "     ApplicantIncome  CoapplicantIncome  LoanAmount  Loan_Amount_Term  \\\n",
              "0               5849                0.0       128.0             360.0   \n",
              "1               4583             1508.0       128.0             360.0   \n",
              "2               3000                0.0        66.0             360.0   \n",
              "3               2583             2358.0       120.0             360.0   \n",
              "4               6000                0.0       141.0             360.0   \n",
              "..               ...                ...         ...               ...   \n",
              "609             2900                0.0        71.0             360.0   \n",
              "610             4106                0.0        40.0             180.0   \n",
              "611             8072              240.0       253.0             360.0   \n",
              "612             7583                0.0       187.0             360.0   \n",
              "613             4583                0.0       133.0             360.0   \n",
              "\n",
              "     Credit_History Property_Area Loan_Status  \n",
              "0               1.0         Urban           Y  \n",
              "1               1.0         Rural           N  \n",
              "2               1.0         Urban           Y  \n",
              "3               1.0         Urban           Y  \n",
              "4               1.0         Urban           Y  \n",
              "..              ...           ...         ...  \n",
              "609             1.0         Rural           Y  \n",
              "610             1.0         Rural           Y  \n",
              "611             1.0         Urban           Y  \n",
              "612             1.0         Urban           Y  \n",
              "613             0.0     Semiurban           N  \n",
              "\n",
              "[614 rows x 13 columns]"
            ]
          },
          "execution_count": 11,
          "metadata": {},
          "output_type": "execute_result"
        }
      ],
      "source": [
        "data"
      ]
    },
    {
      "cell_type": "code",
      "execution_count": 12,
      "metadata": {
        "id": "fv34Gd0BMtgy"
      },
      "outputs": [],
      "source": [
        "# Importing plotly for visual analysis\n",
        "import plotly.express as px\n",
        "import plotly.figure_factory as ff\n",
        "import plotly"
      ]
    },
    {
      "cell_type": "code",
      "execution_count": 13,
      "metadata": {
        "colab": {
          "base_uri": "https://localhost:8080/",
          "height": 678
        },
        "id": "cAzzjeshMtgy",
        "outputId": "de7db296-89b4-4ac1-9aa2-e7f5e5711ad1"
      },
      "outputs": [
        {
          "name": "stderr",
          "output_type": "stream",
          "text": [
            "C:\\Users\\thara\\AppData\\Local\\Temp\\ipykernel_17444\\1608621340.py:3: UserWarning: \n",
            "\n",
            "`distplot` is a deprecated function and will be removed in seaborn v0.14.0.\n",
            "\n",
            "Please adapt your code to use either `displot` (a figure-level function with\n",
            "similar flexibility) or `histplot` (an axes-level function for histograms).\n",
            "\n",
            "For a guide to updating your code to use the new functions, please see\n",
            "https://gist.github.com/mwaskom/de44147ed2974457ad6372750bbe5751\n",
            "\n",
            "  sns.distplot(data['ApplicantIncome'], color='b')\n",
            "C:\\Users\\thara\\AppData\\Local\\Temp\\ipykernel_17444\\1608621340.py:5: UserWarning: \n",
            "\n",
            "`distplot` is a deprecated function and will be removed in seaborn v0.14.0.\n",
            "\n",
            "Please adapt your code to use either `displot` (a figure-level function with\n",
            "similar flexibility) or `histplot` (an axes-level function for histograms).\n",
            "\n",
            "For a guide to updating your code to use the new functions, please see\n",
            "https://gist.github.com/mwaskom/de44147ed2974457ad6372750bbe5751\n",
            "\n",
            "  sns.distplot(data['Credit_History'])\n"
          ]
        },
        {
          "data": {
            "image/png": "[encoded data removed]",
            "text/plain": [
              "<Figure size 1200x500 with 2 Axes>"
            ]
          },
          "metadata": {},
          "output_type": "display_data"
        }
      ],
      "source": [
        "plt.figure(figsize=(12,5))\n",
        "plt.subplot(121)\n",
        "sns.distplot(data['ApplicantIncome'], color='b')\n",
        "plt.subplot(122)\n",
        "sns.distplot(data['Credit_History'])\n",
        "plt.show()"
      ]
    },
    {
      "cell_type": "code",
      "execution_count": 14,
      "metadata": {
        "colab": {
          "base_uri": "https://localhost:8080/",
          "height": 333
        },
        "id": "y4iUw_gyMtgz",
        "outputId": "7ba26694-ebf6-4393-c5f0-661848907c9b"
      },
      "outputs": [
        {
          "data": {
            "image/png": "[encoded data removed]",
            "text/plain": [
              "<Figure size 300x300 with 1 Axes>"
            ]
          },
          "metadata": {},
          "output_type": "display_data"
        }
      ],
      "source": [
        "plt.figure(figsize=(3, 3))\n",
        "# Create a countplot\n",
        "sns.countplot(data=data, x='Loan_Status', order=data['Loan_Status'].value_counts().index)\n",
        "plt.title('Loan Status Counts')\n",
        "plt.show()\n"
      ]
    },
    {
      "cell_type": "code",
      "execution_count": 15,
      "metadata": {
        "colab": {
          "base_uri": "https://localhost:8080/",
          "height": 423
        },
        "id": "tgPx0fBzMtgz",
        "outputId": "06194f65-d27a-48a9-fd2b-ed0cfc15cbd0"
      },
      "outputs": [
        {
          "data": {
            "text/plain": [
              "<Axes: ylabel='count'>"
            ]
          },
          "execution_count": 15,
          "metadata": {},
          "output_type": "execute_result"
        },
        {
          "data": {
            "image/png": "[encoded data removed]",
            "text/plain": [
              "<Figure size 640x480 with 1 Axes>"
            ]
          },
          "metadata": {},
          "output_type": "display_data"
        }
      ],
      "source": [
        "data['Property_Area'].value_counts().plot(kind='pie',autopct='%.2f')"
      ]
    },
    {
      "cell_type": "markdown",
      "metadata": {
        "id": "2RH3A8BDMtgz"
      },
      "source": [
        "BIVARIATE ANALYSIS"
      ]
    },
    {
      "cell_type": "code",
      "execution_count": 16,
      "metadata": {
        "colab": {
          "base_uri": "https://localhost:8080/",
          "height": 359
        },
        "id": "jyd7M-hbMtg0",
        "outputId": "73301502-601f-42e9-fe6d-326ff90c03c8"
      },
      "outputs": [
        {
          "data": {
            "image/png": "[encoded data removed]",
            "text/plain": [
              "<Figure size 1800x400 with 2 Axes>"
            ]
          },
          "metadata": {},
          "output_type": "display_data"
        }
      ],
      "source": [
        "import seaborn as sns\n",
        "import matplotlib.pyplot as plt\n",
        "plt.figure(figsize=(18, 4))\n",
        "\n",
        "# Subplot 1: Gender\n",
        "plt.subplot(1, 4, 1)\n",
        "sns.countplot(data=data, x='Gender')\n",
        "plt.title('Gender')\n",
        "\n",
        "# Subplot 2: Education\n",
        "plt.subplot(1, 4, 2)\n",
        "sns.countplot(data=data, x='Education')\n",
        "plt.title('Education')\n",
        "\n",
        "plt.show()\n"
      ]
    },
    {
      "cell_type": "code",
      "execution_count": 17,
      "metadata": {
        "colab": {
          "base_uri": "https://localhost:8080/"
        },
        "id": "wJdmq2lrMtg0",
        "outputId": "de07d89d-4b20-4d25-93d0-09918af9d9c8"
      },
      "outputs": [
        {
          "data": {
            "text/plain": [
              "Index(['Loan_ID', 'Gender', 'Married', 'Dependents', 'Education',\n",
              "       'Self_Employed', 'ApplicantIncome', 'CoapplicantIncome', 'LoanAmount',\n",
              "       'Loan_Amount_Term', 'Credit_History', 'Property_Area', 'Loan_Status'],\n",
              "      dtype='object')"
            ]
          },
          "execution_count": 17,
          "metadata": {},
          "output_type": "execute_result"
        }
      ],
      "source": [
        "data.columns"
      ]
    },
    {
      "cell_type": "code",
      "execution_count": 18,
      "metadata": {
        "colab": {
          "base_uri": "https://localhost:8080/",
          "height": 564
        },
        "id": "b8apM4TgMtg1",
        "outputId": "68792548-1b0f-4e52-8a72-6beb22480490"
      },
      "outputs": [
        {
          "data": {
            "image/png": "[encoded data removed]",
            "text/plain": [
              "<Figure size 600x600 with 1 Axes>"
            ]
          },
          "metadata": {},
          "output_type": "display_data"
        }
      ],
      "source": [
        "import seaborn as sns\n",
        "import matplotlib.pyplot as plt\n",
        "plt.figure(figsize=(6, 6))\n",
        "sns.boxplot(x='Loan_Status', y='ApplicantIncome', data=data)\n",
        "plt.title('Box Plot for Loan_Status vs. Loan_Amount_Term')\n",
        "plt.show()\n"
      ]
    },
    {
      "cell_type": "code",
      "execution_count": 19,
      "metadata": {
        "colab": {
          "base_uri": "https://localhost:8080/",
          "height": 564
        },
        "id": "I9EwJnFeMtg2",
        "outputId": "84521991-b4b0-46bf-c5ac-865e66f05671"
      },
      "outputs": [
        {
          "data": {
            "image/png": "[encoded data removed]",
            "text/plain": [
              "<Figure size 300x600 with 1 Axes>"
            ]
          },
          "metadata": {},
          "output_type": "display_data"
        }
      ],
      "source": [
        "import seaborn as sns\n",
        "import matplotlib.pyplot as plt\n",
        "plt.figure(figsize=(3, 6))\n",
        "sns.barplot(x='Property_Area', y='ApplicantIncome', data=data)\n",
        "plt.title('Bar Plot for Property_Area vs. ApplicantIncome')\n",
        "plt.show()\n"
      ]
    },
    {
      "cell_type": "code",
      "execution_count": 20,
      "metadata": {
        "colab": {
          "base_uri": "https://localhost:8080/",
          "height": 537
        },
        "id": "c3glM5ZmMtg2",
        "outputId": "da8cacc1-9855-4dcb-c22c-36eb68ee6ca8"
      },
      "outputs": [
        {
          "data": {
            "image/png": "[encoded data removed]",
            "text/plain": [
              "<Figure size 800x600 with 1 Axes>"
            ]
          },
          "metadata": {},
          "output_type": "display_data"
        }
      ],
      "source": [
        "import seaborn as sns\n",
        "import matplotlib.pyplot as plt\n",
        "plt.figure(figsize=(8, 6))\n",
        "sns.stripplot(x='LoanAmount', y='Loan_Status', data=data)\n",
        "plt.title('Strip Plot for LoanAmount vs. Loan_Status')\n",
        "plt.show()\n"
      ]
    },
    {
      "cell_type": "code",
      "execution_count": 21,
      "metadata": {
        "colab": {
          "base_uri": "https://localhost:8080/",
          "height": 204
        },
        "id": "dgnSA4-2Mtg3",
        "outputId": "91ca3cf5-5cbf-4735-8423-4179dc258627"
      },
      "outputs": [
        {
          "data": {
            "image/png": "[encoded data removed]",
            "text/plain": [
              "<Figure size 2000x500 with 3 Axes>"
            ]
          },
          "metadata": {},
          "output_type": "display_data"
        }
      ],
      "source": [
        "import seaborn as sns\n",
        "import matplotlib.pyplot as plt\n",
        "\n",
        "# Replace 'data' with your DataFrame\n",
        "plt.figure(figsize=(20, 5))\n",
        "\n",
        "# Subplot 1: Married vs Gender\n",
        "plt.subplot(131)\n",
        "sns.countplot(data=data, x=\"Married\", hue=\"Gender\")\n",
        "plt.title(\"Married vs Gender\")\n",
        "\n",
        "# Subplot 2: Self_Employed vs Education\n",
        "plt.subplot(132)\n",
        "sns.countplot(data=data, x=\"Self_Employed\", hue=\"Education\")\n",
        "plt.title(\"Self_Employed vs Education\")\n",
        "\n",
        "# Subplot 3: Property_Area vs Loan_Amount_Term\n",
        "plt.subplot(133)\n",
        "sns.countplot(data=data, x=\"Property_Area\", hue=\"Loan_Amount_Term\")\n",
        "plt.title(\"Property_Area vs Loan_Amount_Term\")\n",
        "\n",
        "plt.show()\n"
      ]
    },
    {
      "cell_type": "markdown",
      "metadata": {
        "id": "DOdYr2h_Mtg4"
      },
      "source": [
        "MULTIVARIATE ANALYSIS"
      ]
    },
    {
      "cell_type": "code",
      "execution_count": 22,
      "metadata": {
        "colab": {
          "base_uri": "https://localhost:8080/",
          "height": 510
        },
        "id": "XxcGyzb-Mtg4",
        "outputId": "3c969dfc-5fe0-4a75-867b-6b09cfa8c3ac"
      },
      "outputs": [
        {
          "name": "stderr",
          "output_type": "stream",
          "text": [
            "C:\\Users\\thara\\AppData\\Local\\Packages\\PythonSoftwareFoundation.Python.3.10_qbz5n2kfra8p0\\LocalCache\\local-packages\\Python310\\site-packages\\seaborn\\axisgrid.py:118: UserWarning: The figure layout has changed to tight\n",
            "  self._figure.tight_layout(*args, **kwargs)\n"
          ]
        },
        {
          "data": {
            "image/png": "[encoded data removed]",
            "text/plain": [
              "<Figure size 605.875x500 with 6 Axes>"
            ]
          },
          "metadata": {},
          "output_type": "display_data"
        }
      ],
      "source": [
        "import seaborn as sns\n",
        "import matplotlib.pyplot as plt\n",
        "sns.set(style=\"ticks\")\n",
        "sns.pairplot(data, hue=\"Gender\", vars=['ApplicantIncome', 'LoanAmount'], diag_kind=\"kde\", markers=[\"o\", \"s\"], plot_kws={'alpha': 0.6})\n",
        "plt.show()\n"
      ]
    },
    {
      "cell_type": "code",
      "execution_count": 23,
      "metadata": {
        "colab": {
          "base_uri": "https://localhost:8080/",
          "height": 680
        },
        "id": "s1IO-bSdMtg4",
        "outputId": "32b0bbdc-3b43-491b-fe8d-0a5d89fbc551"
      },
      "outputs": [
        {
          "name": "stderr",
          "output_type": "stream",
          "text": [
            "C:\\Users\\thara\\AppData\\Local\\Packages\\PythonSoftwareFoundation.Python.3.10_qbz5n2kfra8p0\\LocalCache\\local-packages\\Python310\\site-packages\\seaborn\\axisgrid.py:118: UserWarning: The figure layout has changed to tight\n",
            "  self._figure.tight_layout(*args, **kwargs)\n"
          ]
        },
        {
          "data": {
            "text/plain": [
              "<seaborn.axisgrid.PairGrid at 0x103e71beb30>"
            ]
          },
          "execution_count": 23,
          "metadata": {},
          "output_type": "execute_result"
        },
        {
          "data": {
            "image/png": "[encoded data removed]",
            "text/plain": [
              "<Figure size 1500x1500 with 42 Axes>"
            ]
          },
          "metadata": {},
          "output_type": "display_data"
        }
      ],
      "source": [
        "sns.pairplot(data)"
      ]
    },
    {
      "cell_type": "code",
      "execution_count": 24,
      "metadata": {
        "colab": {
          "base_uri": "https://localhost:8080/",
          "height": 320
        },
        "id": "KhOywiy1Mtg5",
        "outputId": "31d072f0-a8f0-418a-818f-1e2a99294062"
      },
      "outputs": [
        {
          "data": {
            "text/html": [
              "<div>\n",
              "<style scoped>\n",
              "    .dataframe tbody tr th:only-of-type {\n",
              "        vertical-align: middle;\n",
              "    }\n",
              "\n",
              "    .dataframe tbody tr th {\n",
              "        vertical-align: top;\n",
              "    }\n",
              "\n",
              "    .dataframe thead th {\n",
              "        text-align: right;\n",
              "    }\n",
              "</style>\n",
              "<table border=\"1\" class=\"dataframe\">\n",
              "  <thead>\n",
              "    <tr style=\"text-align: right;\">\n",
              "      <th></th>\n",
              "      <th>Dependents</th>\n",
              "      <th>ApplicantIncome</th>\n",
              "      <th>CoapplicantIncome</th>\n",
              "      <th>LoanAmount</th>\n",
              "      <th>Loan_Amount_Term</th>\n",
              "      <th>Credit_History</th>\n",
              "    </tr>\n",
              "  </thead>\n",
              "  <tbody>\n",
              "    <tr>\n",
              "      <th>count</th>\n",
              "      <td>614.000000</td>\n",
              "      <td>614.000000</td>\n",
              "      <td>614.000000</td>\n",
              "      <td>614.000000</td>\n",
              "      <td>614.000000</td>\n",
              "      <td>614.000000</td>\n",
              "    </tr>\n",
              "    <tr>\n",
              "      <th>mean</th>\n",
              "      <td>0.744300</td>\n",
              "      <td>5403.459283</td>\n",
              "      <td>1621.245798</td>\n",
              "      <td>145.752443</td>\n",
              "      <td>342.410423</td>\n",
              "      <td>0.855049</td>\n",
              "    </tr>\n",
              "    <tr>\n",
              "      <th>std</th>\n",
              "      <td>1.009623</td>\n",
              "      <td>6109.041673</td>\n",
              "      <td>2926.248369</td>\n",
              "      <td>84.107233</td>\n",
              "      <td>64.428629</td>\n",
              "      <td>0.352339</td>\n",
              "    </tr>\n",
              "    <tr>\n",
              "      <th>min</th>\n",
              "      <td>0.000000</td>\n",
              "      <td>150.000000</td>\n",
              "      <td>0.000000</td>\n",
              "      <td>9.000000</td>\n",
              "      <td>12.000000</td>\n",
              "      <td>0.000000</td>\n",
              "    </tr>\n",
              "    <tr>\n",
              "      <th>25%</th>\n",
              "      <td>0.000000</td>\n",
              "      <td>2877.500000</td>\n",
              "      <td>0.000000</td>\n",
              "      <td>100.250000</td>\n",
              "      <td>360.000000</td>\n",
              "      <td>1.000000</td>\n",
              "    </tr>\n",
              "    <tr>\n",
              "      <th>50%</th>\n",
              "      <td>0.000000</td>\n",
              "      <td>3812.500000</td>\n",
              "      <td>1188.500000</td>\n",
              "      <td>128.000000</td>\n",
              "      <td>360.000000</td>\n",
              "      <td>1.000000</td>\n",
              "    </tr>\n",
              "    <tr>\n",
              "      <th>75%</th>\n",
              "      <td>1.000000</td>\n",
              "      <td>5795.000000</td>\n",
              "      <td>2297.250000</td>\n",
              "      <td>164.750000</td>\n",
              "      <td>360.000000</td>\n",
              "      <td>1.000000</td>\n",
              "    </tr>\n",
              "    <tr>\n",
              "      <th>max</th>\n",
              "      <td>3.000000</td>\n",
              "      <td>81000.000000</td>\n",
              "      <td>41667.000000</td>\n",
              "      <td>700.000000</td>\n",
              "      <td>480.000000</td>\n",
              "      <td>1.000000</td>\n",
              "    </tr>\n",
              "  </tbody>\n",
              "</table>\n",
              "</div>"
            ],
            "text/plain": [
              "       Dependents  ApplicantIncome  CoapplicantIncome  LoanAmount  \\\n",
              "count  614.000000       614.000000         614.000000  614.000000   \n",
              "mean     0.744300      5403.459283        1621.245798  145.752443   \n",
              "std      1.009623      6109.041673        2926.248369   84.107233   \n",
              "min      0.000000       150.000000           0.000000    9.000000   \n",
              "25%      0.000000      2877.500000           0.000000  100.250000   \n",
              "50%      0.000000      3812.500000        1188.500000  128.000000   \n",
              "75%      1.000000      5795.000000        2297.250000  164.750000   \n",
              "max      3.000000     81000.000000       41667.000000  700.000000   \n",
              "\n",
              "       Loan_Amount_Term  Credit_History  \n",
              "count        614.000000      614.000000  \n",
              "mean         342.410423        0.855049  \n",
              "std           64.428629        0.352339  \n",
              "min           12.000000        0.000000  \n",
              "25%          360.000000        1.000000  \n",
              "50%          360.000000        1.000000  \n",
              "75%          360.000000        1.000000  \n",
              "max          480.000000        1.000000  "
            ]
          },
          "execution_count": 24,
          "metadata": {},
          "output_type": "execute_result"
        }
      ],
      "source": [
        "data.describe()"
      ]
    },
    {
      "cell_type": "markdown",
      "metadata": {
        "id": "5TiLOdHPMtg5"
      },
      "source": [
        " ## EDA > ONE HOT ENCODING >LABEL ENCODING > SCALING >SPLITING DATA INTO X AND Y > SPLITING INTO X-TRAIN AND Y-TRAIN > MODELS"
      ]
    },
    {
      "cell_type": "markdown",
      "metadata": {
        "id": "OfC0f9A8Mtg5"
      },
      "source": [
        "\n",
        "'''\n",
        "\n",
        "    In the dataset, We observe categorical data. So We must convert the categorical data to Integer\n",
        "    Encoding or Binary Encoding.\n",
        "\n",
        "    For Converting Categorical features to Numercical features we use Encoding Technique.\n",
        "\n",
        "    There are several encoding techniques used, but here in the project we used Manual Encoding\n",
        "    with the help of list comprehension.\n",
        "\n",
        "'''"
      ]
    },
    {
      "cell_type": "markdown",
      "metadata": {
        "id": "pBA_e-bKMtg6"
      },
      "source": [
        "ONE-HOT ENCODING"
      ]
    },
    {
      "cell_type": "code",
      "execution_count": 25,
      "metadata": {
        "id": "oyqY_hZPMtg6"
      },
      "outputs": [],
      "source": [
        "# List of categorical columns for one-hot encoding\n",
        "categorical_columns = ['Gender', 'Married', 'Education', 'Self_Employed', 'Property_Area']\n",
        "\n",
        "# Apply one-hot encoding\n",
        "data = pd.get_dummies(data, columns=categorical_columns, drop_first=True)\n"
      ]
    },
    {
      "cell_type": "markdown",
      "metadata": {
        "id": "RIM2iclYMtg6"
      },
      "source": [
        "LABEL ENCODER"
      ]
    },
    {
      "cell_type": "code",
      "execution_count": 26,
      "metadata": {
        "id": "dJMpTWL8Mtg6"
      },
      "outputs": [],
      "source": [
        "from sklearn.preprocessing import LabelEncoder\n",
        "\n",
        "# Assuming 'data' is your DataFrame\n",
        "label_encoder = LabelEncoder()\n",
        "\n",
        "# Apply label encoding to the 'Loan_Status' column\n",
        "data['Loan_Status'] = label_encoder.fit_transform(data['Loan_Status'])\n"
      ]
    },
    {
      "cell_type": "markdown",
      "metadata": {
        "id": "F3R0foObMtg7"
      },
      "source": [
        "SCALING THE DATA"
      ]
    },
    {
      "cell_type": "code",
      "execution_count": 27,
      "metadata": {
        "id": "gJvJY9qPMtg7"
      },
      "outputs": [],
      "source": [
        "from sklearn.preprocessing import StandardScaler\n",
        "\n",
        "# Initialize the StandardScaler\n",
        "scaler = StandardScaler()\n",
        "\n",
        "# Specify the columns to scale (assuming all columns need to be scaled)\n",
        "columns_to_scale = ['Dependents','ApplicantIncome','CoapplicantIncome','LoanAmount','Loan_Amount_Term']\n",
        "\n",
        "# Fit and transform the data using the StandardScaler\n",
        "data[columns_to_scale] = scaler.fit_transform(data[columns_to_scale])\n"
      ]
    },
    {
      "cell_type": "code",
      "execution_count": 28,
      "metadata": {
        "colab": {
          "base_uri": "https://localhost:8080/",
          "height": 243
        },
        "id": "73JEW1QdMthR",
        "outputId": "4cb28022-5ebe-449d-c8a9-3b3d04713489"
      },
      "outputs": [
        {
          "data": {
            "text/html": [
              "<div>\n",
              "<style scoped>\n",
              "    .dataframe tbody tr th:only-of-type {\n",
              "        vertical-align: middle;\n",
              "    }\n",
              "\n",
              "    .dataframe tbody tr th {\n",
              "        vertical-align: top;\n",
              "    }\n",
              "\n",
              "    .dataframe thead th {\n",
              "        text-align: right;\n",
              "    }\n",
              "</style>\n",
              "<table border=\"1\" class=\"dataframe\">\n",
              "  <thead>\n",
              "    <tr style=\"text-align: right;\">\n",
              "      <th></th>\n",
              "      <th>Loan_ID</th>\n",
              "      <th>Dependents</th>\n",
              "      <th>ApplicantIncome</th>\n",
              "      <th>CoapplicantIncome</th>\n",
              "      <th>LoanAmount</th>\n",
              "      <th>Loan_Amount_Term</th>\n",
              "      <th>Credit_History</th>\n",
              "      <th>Loan_Status</th>\n",
              "      <th>Gender_Male</th>\n",
              "      <th>Married_Yes</th>\n",
              "      <th>Education_Not Graduate</th>\n",
              "      <th>Self_Employed_Yes</th>\n",
              "      <th>Property_Area_Semiurban</th>\n",
              "      <th>Property_Area_Urban</th>\n",
              "    </tr>\n",
              "  </thead>\n",
              "  <tbody>\n",
              "    <tr>\n",
              "      <th>0</th>\n",
              "      <td>LP001002</td>\n",
              "      <td>-0.737806</td>\n",
              "      <td>0.072991</td>\n",
              "      <td>-0.554487</td>\n",
              "      <td>-0.211241</td>\n",
              "      <td>0.273231</td>\n",
              "      <td>1.0</td>\n",
              "      <td>1</td>\n",
              "      <td>True</td>\n",
              "      <td>False</td>\n",
              "      <td>False</td>\n",
              "      <td>False</td>\n",
              "      <td>False</td>\n",
              "      <td>True</td>\n",
              "    </tr>\n",
              "    <tr>\n",
              "      <th>1</th>\n",
              "      <td>LP001003</td>\n",
              "      <td>0.253470</td>\n",
              "      <td>-0.134412</td>\n",
              "      <td>-0.038732</td>\n",
              "      <td>-0.211241</td>\n",
              "      <td>0.273231</td>\n",
              "      <td>1.0</td>\n",
              "      <td>0</td>\n",
              "      <td>True</td>\n",
              "      <td>True</td>\n",
              "      <td>False</td>\n",
              "      <td>False</td>\n",
              "      <td>False</td>\n",
              "      <td>False</td>\n",
              "    </tr>\n",
              "    <tr>\n",
              "      <th>2</th>\n",
              "      <td>LP001005</td>\n",
              "      <td>-0.737806</td>\n",
              "      <td>-0.393747</td>\n",
              "      <td>-0.554487</td>\n",
              "      <td>-0.948996</td>\n",
              "      <td>0.273231</td>\n",
              "      <td>1.0</td>\n",
              "      <td>1</td>\n",
              "      <td>True</td>\n",
              "      <td>True</td>\n",
              "      <td>False</td>\n",
              "      <td>True</td>\n",
              "      <td>False</td>\n",
              "      <td>True</td>\n",
              "    </tr>\n",
              "    <tr>\n",
              "      <th>3</th>\n",
              "      <td>LP001006</td>\n",
              "      <td>-0.737806</td>\n",
              "      <td>-0.462062</td>\n",
              "      <td>0.251980</td>\n",
              "      <td>-0.306435</td>\n",
              "      <td>0.273231</td>\n",
              "      <td>1.0</td>\n",
              "      <td>1</td>\n",
              "      <td>True</td>\n",
              "      <td>True</td>\n",
              "      <td>True</td>\n",
              "      <td>False</td>\n",
              "      <td>False</td>\n",
              "      <td>True</td>\n",
              "    </tr>\n",
              "    <tr>\n",
              "      <th>4</th>\n",
              "      <td>LP001008</td>\n",
              "      <td>-0.737806</td>\n",
              "      <td>0.097728</td>\n",
              "      <td>-0.554487</td>\n",
              "      <td>-0.056551</td>\n",
              "      <td>0.273231</td>\n",
              "      <td>1.0</td>\n",
              "      <td>1</td>\n",
              "      <td>True</td>\n",
              "      <td>False</td>\n",
              "      <td>False</td>\n",
              "      <td>False</td>\n",
              "      <td>False</td>\n",
              "      <td>True</td>\n",
              "    </tr>\n",
              "  </tbody>\n",
              "</table>\n",
              "</div>"
            ],
            "text/plain": [
              "    Loan_ID  Dependents  ApplicantIncome  CoapplicantIncome  LoanAmount  \\\n",
              "0  LP001002   -0.737806         0.072991          -0.554487   -0.211241   \n",
              "1  LP001003    0.253470        -0.134412          -0.038732   -0.211241   \n",
              "2  LP001005   -0.737806        -0.393747          -0.554487   -0.948996   \n",
              "3  LP001006   -0.737806        -0.462062           0.251980   -0.306435   \n",
              "4  LP001008   -0.737806         0.097728          -0.554487   -0.056551   \n",
              "\n",
              "   Loan_Amount_Term  Credit_History  Loan_Status  Gender_Male  Married_Yes  \\\n",
              "0          0.273231             1.0            1         True        False   \n",
              "1          0.273231             1.0            0         True         True   \n",
              "2          0.273231             1.0            1         True         True   \n",
              "3          0.273231             1.0            1         True         True   \n",
              "4          0.273231             1.0            1         True        False   \n",
              "\n",
              "   Education_Not Graduate  Self_Employed_Yes  Property_Area_Semiurban  \\\n",
              "0                   False              False                    False   \n",
              "1                   False              False                    False   \n",
              "2                   False               True                    False   \n",
              "3                    True              False                    False   \n",
              "4                   False              False                    False   \n",
              "\n",
              "   Property_Area_Urban  \n",
              "0                 True  \n",
              "1                False  \n",
              "2                 True  \n",
              "3                 True  \n",
              "4                 True  "
            ]
          },
          "execution_count": 28,
          "metadata": {},
          "output_type": "execute_result"
        }
      ],
      "source": [
        "data.head()"
      ]
    },
    {
      "cell_type": "code",
      "execution_count": 29,
      "metadata": {
        "ExecuteTime": {
          "start_time": "2023-11-01T16:46:35.906840100Z"
        },
        "id": "JOXD9W--MthS"
      },
      "outputs": [],
      "source": [
        "# Handling Imbalance Data\n",
        "from imblearn.combine import SMOTETomek"
      ]
    },
    {
      "cell_type": "code",
      "execution_count": 30,
      "metadata": {
        "ExecuteTime": {
          "start_time": "2023-11-01T16:46:35.906840100Z"
        },
        "id": "-hn3JTASMthS"
      },
      "outputs": [],
      "source": [
        "smote = SMOTETomek(sampling_strategy=0.90)"
      ]
    },
    {
      "cell_type": "code",
      "execution_count": 31,
      "metadata": {
        "ExecuteTime": {
          "start_time": "2023-11-01T16:46:35.906840100Z"
        },
        "id": "Bc7bFzH6MthS"
      },
      "outputs": [],
      "source": [
        "# Dividing the data into dependent and independent y and x respectively\n",
        "y = data['Loan_Status']\n",
        "x = data.drop(columns=['Loan_Status','Loan_ID'],axis=1)"
      ]
    },
    {
      "cell_type": "code",
      "execution_count": 32,
      "metadata": {
        "ExecuteTime": {
          "start_time": "2023-11-01T16:46:35.922932100Z"
        },
        "colab": {
          "base_uri": "https://localhost:8080/"
        },
        "id": "aGc7-ARiMthT",
        "outputId": "280f018a-fa0b-4987-ec33-3ee31cd9eae3"
      },
      "outputs": [
        {
          "data": {
            "text/plain": [
              "Loan_Status\n",
              "1    422\n",
              "0    192\n",
              "Name: count, dtype: int64"
            ]
          },
          "execution_count": 32,
          "metadata": {},
          "output_type": "execute_result"
        }
      ],
      "source": [
        "data['Loan_Status'].value_counts()"
      ]
    },
    {
      "cell_type": "code",
      "execution_count": 33,
      "metadata": {
        "ExecuteTime": {
          "start_time": "2023-11-01T16:46:35.922932100Z"
        },
        "id": "J8SfCOcSMthT"
      },
      "outputs": [],
      "source": [
        "# creating a new x and y variables for the balanced set\n",
        "X_resampled,Y_resampled = smote.fit_resample(x,y)"
      ]
    },
    {
      "cell_type": "code",
      "execution_count": 34,
      "metadata": {
        "colab": {
          "base_uri": "https://localhost:8080/"
        },
        "id": "H6OxqiW5MthT",
        "outputId": "a271983f-f96e-4f29-87b4-e2f51c296cef"
      },
      "outputs": [
        {
          "name": "stdout",
          "output_type": "stream",
          "text": [
            "Loan_Status\n",
            "1    422\n",
            "0    192\n",
            "Name: count, dtype: int64\n",
            "Loan_Status\n",
            "1    392\n",
            "0    349\n",
            "Name: count, dtype: int64\n"
          ]
        }
      ],
      "source": [
        "# printing the values of y before balancing the data and after\n",
        "print(y.value_counts())\n",
        "print(Y_resampled.value_counts())"
      ]
    },
    {
      "cell_type": "markdown",
      "metadata": {},
      "source": [
        "SPLITTING DATA INTO TRAIN AND TEST"
      ]
    },
    {
      "cell_type": "code",
      "execution_count": 35,
      "metadata": {
        "id": "nz4Da25tMthU"
      },
      "outputs": [],
      "source": [
        "X_train, X_test, y_train, y_test = train_test_split(X_resampled, Y_resampled, test_size=0.33, random_state=42)"
      ]
    },
    {
      "cell_type": "code",
      "execution_count": 36,
      "metadata": {
        "colab": {
          "base_uri": "https://localhost:8080/",
          "height": 243
        },
        "id": "pISRYt79MthU",
        "outputId": "775fcd22-521d-40c6-e47d-730e99d5ea9d"
      },
      "outputs": [
        {
          "data": {
            "text/html": [
              "<div>\n",
              "<style scoped>\n",
              "    .dataframe tbody tr th:only-of-type {\n",
              "        vertical-align: middle;\n",
              "    }\n",
              "\n",
              "    .dataframe tbody tr th {\n",
              "        vertical-align: top;\n",
              "    }\n",
              "\n",
              "    .dataframe thead th {\n",
              "        text-align: right;\n",
              "    }\n",
              "</style>\n",
              "<table border=\"1\" class=\"dataframe\">\n",
              "  <thead>\n",
              "    <tr style=\"text-align: right;\">\n",
              "      <th></th>\n",
              "      <th>Dependents</th>\n",
              "      <th>ApplicantIncome</th>\n",
              "      <th>CoapplicantIncome</th>\n",
              "      <th>LoanAmount</th>\n",
              "      <th>Loan_Amount_Term</th>\n",
              "      <th>Credit_History</th>\n",
              "      <th>Gender_Male</th>\n",
              "      <th>Married_Yes</th>\n",
              "      <th>Education_Not Graduate</th>\n",
              "      <th>Self_Employed_Yes</th>\n",
              "      <th>Property_Area_Semiurban</th>\n",
              "      <th>Property_Area_Urban</th>\n",
              "    </tr>\n",
              "  </thead>\n",
              "  <tbody>\n",
              "    <tr>\n",
              "      <th>114</th>\n",
              "      <td>-0.737806</td>\n",
              "      <td>-0.180775</td>\n",
              "      <td>0.134327</td>\n",
              "      <td>0.574111</td>\n",
              "      <td>0.273231</td>\n",
              "      <td>1.0</td>\n",
              "      <td>True</td>\n",
              "      <td>True</td>\n",
              "      <td>True</td>\n",
              "      <td>False</td>\n",
              "      <td>False</td>\n",
              "      <td>False</td>\n",
              "    </tr>\n",
              "    <tr>\n",
              "      <th>665</th>\n",
              "      <td>-0.737806</td>\n",
              "      <td>0.163292</td>\n",
              "      <td>-0.554487</td>\n",
              "      <td>-0.415697</td>\n",
              "      <td>0.273231</td>\n",
              "      <td>0.0</td>\n",
              "      <td>True</td>\n",
              "      <td>False</td>\n",
              "      <td>False</td>\n",
              "      <td>False</td>\n",
              "      <td>False</td>\n",
              "      <td>False</td>\n",
              "    </tr>\n",
              "    <tr>\n",
              "      <th>721</th>\n",
              "      <td>0.934376</td>\n",
              "      <td>0.519356</td>\n",
              "      <td>6.802746</td>\n",
              "      <td>2.422586</td>\n",
              "      <td>-0.687076</td>\n",
              "      <td>1.0</td>\n",
              "      <td>True</td>\n",
              "      <td>True</td>\n",
              "      <td>False</td>\n",
              "      <td>False</td>\n",
              "      <td>True</td>\n",
              "      <td>True</td>\n",
              "    </tr>\n",
              "    <tr>\n",
              "      <th>664</th>\n",
              "      <td>-0.737806</td>\n",
              "      <td>-0.520932</td>\n",
              "      <td>0.473169</td>\n",
              "      <td>-0.481895</td>\n",
              "      <td>0.273231</td>\n",
              "      <td>0.0</td>\n",
              "      <td>True</td>\n",
              "      <td>True</td>\n",
              "      <td>True</td>\n",
              "      <td>False</td>\n",
              "      <td>False</td>\n",
              "      <td>True</td>\n",
              "    </tr>\n",
              "    <tr>\n",
              "      <th>423</th>\n",
              "      <td>1.244745</td>\n",
              "      <td>-0.850820</td>\n",
              "      <td>0.443165</td>\n",
              "      <td>-0.568220</td>\n",
              "      <td>0.273231</td>\n",
              "      <td>1.0</td>\n",
              "      <td>False</td>\n",
              "      <td>True</td>\n",
              "      <td>True</td>\n",
              "      <td>False</td>\n",
              "      <td>True</td>\n",
              "      <td>False</td>\n",
              "    </tr>\n",
              "  </tbody>\n",
              "</table>\n",
              "</div>"
            ],
            "text/plain": [
              "     Dependents  ApplicantIncome  CoapplicantIncome  LoanAmount  \\\n",
              "114   -0.737806        -0.180775           0.134327    0.574111   \n",
              "665   -0.737806         0.163292          -0.554487   -0.415697   \n",
              "721    0.934376         0.519356           6.802746    2.422586   \n",
              "664   -0.737806        -0.520932           0.473169   -0.481895   \n",
              "423    1.244745        -0.850820           0.443165   -0.568220   \n",
              "\n",
              "     Loan_Amount_Term  Credit_History  Gender_Male  Married_Yes  \\\n",
              "114          0.273231             1.0         True         True   \n",
              "665          0.273231             0.0         True        False   \n",
              "721         -0.687076             1.0         True         True   \n",
              "664          0.273231             0.0         True         True   \n",
              "423          0.273231             1.0        False         True   \n",
              "\n",
              "     Education_Not Graduate  Self_Employed_Yes  Property_Area_Semiurban  \\\n",
              "114                    True              False                    False   \n",
              "665                   False              False                    False   \n",
              "721                   False              False                     True   \n",
              "664                    True              False                    False   \n",
              "423                    True              False                     True   \n",
              "\n",
              "     Property_Area_Urban  \n",
              "114                False  \n",
              "665                False  \n",
              "721                 True  \n",
              "664                 True  \n",
              "423                False  "
            ]
          },
          "execution_count": 36,
          "metadata": {},
          "output_type": "execute_result"
        }
      ],
      "source": [
        "X_train.head()"
      ]
    },
    {
      "cell_type": "code",
      "execution_count": 37,
      "metadata": {},
      "outputs": [
        {
          "data": {
            "text/plain": [
              "Index(['Dependents', 'ApplicantIncome', 'CoapplicantIncome', 'LoanAmount',\n",
              "       'Loan_Amount_Term', 'Credit_History', 'Gender_Male', 'Married_Yes',\n",
              "       'Education_Not Graduate', 'Self_Employed_Yes',\n",
              "       'Property_Area_Semiurban', 'Property_Area_Urban'],\n",
              "      dtype='object')"
            ]
          },
          "execution_count": 37,
          "metadata": {},
          "output_type": "execute_result"
        }
      ],
      "source": [
        "X_train.columns"
      ]
    },
    {
      "cell_type": "code",
      "execution_count": 38,
      "metadata": {},
      "outputs": [
        {
          "data": {
            "text/plain": [
              "(496, 12)"
            ]
          },
          "execution_count": 38,
          "metadata": {},
          "output_type": "execute_result"
        }
      ],
      "source": [
        "X_train.shape"
      ]
    },
    {
      "cell_type": "code",
      "execution_count": 39,
      "metadata": {
        "colab": {
          "base_uri": "https://localhost:8080/"
        },
        "id": "yUmHYwYRMthU",
        "outputId": "0c152dda-2540-4ddf-cfbf-448f055b73d0"
      },
      "outputs": [
        {
          "data": {
            "text/plain": [
              "114    1\n",
              "665    0\n",
              "721    0\n",
              "664    0\n",
              "423    1\n",
              "Name: Loan_Status, dtype: int32"
            ]
          },
          "execution_count": 39,
          "metadata": {},
          "output_type": "execute_result"
        }
      ],
      "source": [
        "y_train.head()"
      ]
    },
    {
      "cell_type": "markdown",
      "metadata": {
        "id": "aVip6aOYMthV"
      },
      "source": [
        "# MODEL BUILDING\n",
        "1. TRAINING THE MODEL IN MULTIPLE ALGORITHMS\n",
        "\n",
        "2. TESTING THE MODEL"
      ]
    },
    {
      "cell_type": "code",
      "execution_count": 40,
      "metadata": {
        "id": "suF7sJ1OMthW"
      },
      "outputs": [],
      "source": [
        "# Decision Tree Model\n",
        "def decisionTree(X_train,X_test,y_train,y_test):\n",
        "    dt = DecisionTreeClassifier()\n",
        "    dt.fit(X_train,y_train)\n",
        "    yPred = dt.predict(X_test)\n",
        "    print('***DecisionTreeClassifier***')\n",
        "    print('Confusion Matrix')\n",
        "    print(confusion_matrix(y_test,yPred))\n",
        "    print('Classification report')\n",
        "    print(classification_report(y_test,yPred))"
      ]
    },
    {
      "cell_type": "code",
      "execution_count": 41,
      "metadata": {
        "id": "OxMVn6hAMthW"
      },
      "outputs": [],
      "source": [
        "# Random Forest Model\n",
        "def randomForest(X_train,X_test,y_train,y_test):\n",
        "    rfr = RandomForestClassifier()\n",
        "    rfr.fit(X_train,y_train)\n",
        "    yPred = rfr.predict(X_test)\n",
        "    print('***RandomForestClassifier***')\n",
        "    print('Confusion Matrix')\n",
        "    print(confusion_matrix(y_test,yPred))\n",
        "    print('classification_report')\n",
        "    print(classification_report(y_test,yPred))"
      ]
    },
    {
      "cell_type": "code",
      "execution_count": 42,
      "metadata": {
        "id": "iCzfIpO1MthX"
      },
      "outputs": [],
      "source": [
        "# KNN Model\n",
        "def KNN(X_train,X_test,y_train,y_test):\n",
        "    knn = KNeighborsClassifier()\n",
        "    knn.fit(X_train,y_train)\n",
        "    yPred =knn.predict(X_test)\n",
        "    print('***KNeighborsClassifer***')\n",
        "    print('Confusion Matrix')\n",
        "    print(confusion_matrix(y_test,yPred))\n",
        "    print('classification_report')\n",
        "    print(classification_report(y_test,yPred))\n"
      ]
    },
    {
      "cell_type": "code",
      "execution_count": 43,
      "metadata": {
        "id": "kb9thhs4MthX"
      },
      "outputs": [],
      "source": [
        "# Xgboost Model\n",
        "def xgboost(x_train, x_test, y_train, y_test):\n",
        "    xg = GradientBoostingClassifier()\n",
        "    xg.fit(x_train,y_train)\n",
        "    yPred = xg.predict(x_test)\n",
        "    print(' *** GradientBoostingClassifier *** ')\n",
        "    print('Confusion matrix')\n",
        "    print(confusion_matrix(y_test, yPred))\n",
        "    print('Classification report')\n",
        "    print(classification_report(y_test, yPred))"
      ]
    },
    {
      "cell_type": "code",
      "execution_count": 44,
      "metadata": {
        "id": "Y-h7EZUhMtha"
      },
      "outputs": [],
      "source": [
        "import numpy as np\n",
        "X_train = np.array(X_train, dtype=np.float32)\n",
        "y_train = np.array(y_train, dtype=np.int32)\n"
      ]
    },
    {
      "cell_type": "code",
      "execution_count": 45,
      "metadata": {
        "colab": {
          "base_uri": "https://localhost:8080/"
        },
        "id": "BgnjXhQDQLZU",
        "outputId": "e3168e4a-738e-4e7a-8f6f-9931bb3bb40e"
      },
      "outputs": [
        {
          "name": "stdout",
          "output_type": "stream",
          "text": [
            "Epoch 1/100\n",
            "4/4 [==============================] - 2s 137ms/step - loss: 0.6866 - accuracy: 0.5884 - val_loss: 0.6689 - val_accuracy: 0.6600\n",
            "Epoch 2/100\n",
            "4/4 [==============================] - 0s 26ms/step - loss: 0.6670 - accuracy: 0.6591 - val_loss: 0.6597 - val_accuracy: 0.6800\n",
            "Epoch 3/100\n",
            "4/4 [==============================] - 0s 29ms/step - loss: 0.6518 - accuracy: 0.7146 - val_loss: 0.6521 - val_accuracy: 0.6900\n",
            "Epoch 4/100\n",
            "4/4 [==============================] - 0s 36ms/step - loss: 0.6376 - accuracy: 0.7424 - val_loss: 0.6409 - val_accuracy: 0.7300\n",
            "Epoch 5/100\n",
            "4/4 [==============================] - 0s 34ms/step - loss: 0.6237 - accuracy: 0.7626 - val_loss: 0.6291 - val_accuracy: 0.7600\n",
            "Epoch 6/100\n",
            "4/4 [==============================] - 0s 35ms/step - loss: 0.6098 - accuracy: 0.7626 - val_loss: 0.6181 - val_accuracy: 0.7600\n",
            "Epoch 7/100\n",
            "4/4 [==============================] - 0s 33ms/step - loss: 0.5956 - accuracy: 0.7727 - val_loss: 0.6063 - val_accuracy: 0.7600\n",
            "Epoch 8/100\n",
            "4/4 [==============================] - 0s 40ms/step - loss: 0.5808 - accuracy: 0.7753 - val_loss: 0.5938 - val_accuracy: 0.7600\n",
            "Epoch 9/100\n",
            "4/4 [==============================] - 0s 40ms/step - loss: 0.5661 - accuracy: 0.7727 - val_loss: 0.5819 - val_accuracy: 0.7600\n",
            "Epoch 10/100\n",
            "4/4 [==============================] - 0s 43ms/step - loss: 0.5512 - accuracy: 0.7828 - val_loss: 0.5730 - val_accuracy: 0.7600\n",
            "Epoch 11/100\n",
            "4/4 [==============================] - 0s 53ms/step - loss: 0.5360 - accuracy: 0.7854 - val_loss: 0.5622 - val_accuracy: 0.7600\n",
            "Epoch 12/100\n",
            "4/4 [==============================] - 0s 46ms/step - loss: 0.5223 - accuracy: 0.7980 - val_loss: 0.5522 - val_accuracy: 0.7800\n",
            "Epoch 13/100\n",
            "4/4 [==============================] - 0s 49ms/step - loss: 0.5074 - accuracy: 0.7980 - val_loss: 0.5427 - val_accuracy: 0.7600\n",
            "Epoch 14/100\n",
            "4/4 [==============================] - 0s 53ms/step - loss: 0.4951 - accuracy: 0.7980 - val_loss: 0.5347 - val_accuracy: 0.7600\n",
            "Epoch 15/100\n",
            "4/4 [==============================] - 0s 51ms/step - loss: 0.4829 - accuracy: 0.7980 - val_loss: 0.5291 - val_accuracy: 0.7600\n",
            "Epoch 16/100\n",
            "4/4 [==============================] - 0s 45ms/step - loss: 0.4718 - accuracy: 0.8056 - val_loss: 0.5259 - val_accuracy: 0.7500\n",
            "Epoch 17/100\n",
            "4/4 [==============================] - 0s 51ms/step - loss: 0.4616 - accuracy: 0.8131 - val_loss: 0.5239 - val_accuracy: 0.7400\n",
            "Epoch 18/100\n",
            "4/4 [==============================] - 0s 59ms/step - loss: 0.4522 - accuracy: 0.8131 - val_loss: 0.5213 - val_accuracy: 0.7400\n",
            "Epoch 19/100\n",
            "4/4 [==============================] - 0s 57ms/step - loss: 0.4449 - accuracy: 0.8157 - val_loss: 0.5202 - val_accuracy: 0.7300\n",
            "Epoch 20/100\n",
            "4/4 [==============================] - 0s 60ms/step - loss: 0.4367 - accuracy: 0.8157 - val_loss: 0.5210 - val_accuracy: 0.7300\n",
            "Epoch 21/100\n",
            "4/4 [==============================] - 0s 56ms/step - loss: 0.4297 - accuracy: 0.8131 - val_loss: 0.5216 - val_accuracy: 0.7300\n",
            "Epoch 22/100\n",
            "4/4 [==============================] - 0s 50ms/step - loss: 0.4232 - accuracy: 0.8157 - val_loss: 0.5222 - val_accuracy: 0.7300\n",
            "Epoch 23/100\n",
            "4/4 [==============================] - 0s 46ms/step - loss: 0.4177 - accuracy: 0.8207 - val_loss: 0.5234 - val_accuracy: 0.7300\n",
            "Epoch 24/100\n",
            "4/4 [==============================] - 0s 43ms/step - loss: 0.4131 - accuracy: 0.8308 - val_loss: 0.5251 - val_accuracy: 0.7300\n",
            "Epoch 25/100\n",
            "4/4 [==============================] - 0s 40ms/step - loss: 0.4069 - accuracy: 0.8359 - val_loss: 0.5264 - val_accuracy: 0.7300\n",
            "Epoch 26/100\n",
            "4/4 [==============================] - 0s 45ms/step - loss: 0.4024 - accuracy: 0.8333 - val_loss: 0.5281 - val_accuracy: 0.7200\n",
            "Epoch 27/100\n",
            "4/4 [==============================] - 0s 40ms/step - loss: 0.3982 - accuracy: 0.8333 - val_loss: 0.5295 - val_accuracy: 0.7200\n",
            "Epoch 28/100\n",
            "4/4 [==============================] - 0s 44ms/step - loss: 0.3939 - accuracy: 0.8359 - val_loss: 0.5328 - val_accuracy: 0.7300\n",
            "Epoch 29/100\n",
            "4/4 [==============================] - 0s 42ms/step - loss: 0.3895 - accuracy: 0.8359 - val_loss: 0.5346 - val_accuracy: 0.7300\n",
            "Epoch 30/100\n",
            "4/4 [==============================] - 0s 47ms/step - loss: 0.3850 - accuracy: 0.8384 - val_loss: 0.5360 - val_accuracy: 0.7300\n",
            "Epoch 31/100\n",
            "4/4 [==============================] - 0s 48ms/step - loss: 0.3811 - accuracy: 0.8359 - val_loss: 0.5388 - val_accuracy: 0.7300\n",
            "Epoch 32/100\n",
            "4/4 [==============================] - 0s 43ms/step - loss: 0.3781 - accuracy: 0.8434 - val_loss: 0.5429 - val_accuracy: 0.7400\n",
            "Epoch 33/100\n",
            "4/4 [==============================] - 0s 47ms/step - loss: 0.3735 - accuracy: 0.8460 - val_loss: 0.5448 - val_accuracy: 0.7400\n",
            "Epoch 34/100\n",
            "4/4 [==============================] - 0s 43ms/step - loss: 0.3700 - accuracy: 0.8460 - val_loss: 0.5460 - val_accuracy: 0.7400\n",
            "Epoch 35/100\n",
            "4/4 [==============================] - 0s 40ms/step - loss: 0.3659 - accuracy: 0.8409 - val_loss: 0.5471 - val_accuracy: 0.7400\n",
            "Epoch 36/100\n",
            "4/4 [==============================] - 0s 39ms/step - loss: 0.3628 - accuracy: 0.8485 - val_loss: 0.5499 - val_accuracy: 0.7400\n",
            "Epoch 37/100\n",
            "4/4 [==============================] - 0s 40ms/step - loss: 0.3601 - accuracy: 0.8485 - val_loss: 0.5526 - val_accuracy: 0.7400\n",
            "Epoch 38/100\n",
            "4/4 [==============================] - 0s 42ms/step - loss: 0.3556 - accuracy: 0.8510 - val_loss: 0.5558 - val_accuracy: 0.7400\n",
            "Epoch 39/100\n",
            "4/4 [==============================] - 0s 43ms/step - loss: 0.3521 - accuracy: 0.8510 - val_loss: 0.5579 - val_accuracy: 0.7400\n",
            "Epoch 40/100\n",
            "4/4 [==============================] - 0s 44ms/step - loss: 0.3492 - accuracy: 0.8510 - val_loss: 0.5596 - val_accuracy: 0.7400\n",
            "Epoch 41/100\n",
            "4/4 [==============================] - 0s 45ms/step - loss: 0.3466 - accuracy: 0.8535 - val_loss: 0.5621 - val_accuracy: 0.7300\n",
            "Epoch 42/100\n",
            "4/4 [==============================] - 0s 43ms/step - loss: 0.3431 - accuracy: 0.8561 - val_loss: 0.5636 - val_accuracy: 0.7300\n",
            "Epoch 43/100\n",
            "4/4 [==============================] - 0s 40ms/step - loss: 0.3397 - accuracy: 0.8561 - val_loss: 0.5656 - val_accuracy: 0.7300\n",
            "Epoch 44/100\n",
            "4/4 [==============================] - 0s 38ms/step - loss: 0.3370 - accuracy: 0.8586 - val_loss: 0.5671 - val_accuracy: 0.7300\n",
            "Epoch 45/100\n",
            "4/4 [==============================] - 0s 42ms/step - loss: 0.3349 - accuracy: 0.8561 - val_loss: 0.5692 - val_accuracy: 0.7200\n",
            "Epoch 46/100\n",
            "4/4 [==============================] - 0s 38ms/step - loss: 0.3318 - accuracy: 0.8561 - val_loss: 0.5711 - val_accuracy: 0.7100\n",
            "Epoch 47/100\n",
            "4/4 [==============================] - 0s 39ms/step - loss: 0.3278 - accuracy: 0.8586 - val_loss: 0.5748 - val_accuracy: 0.7100\n",
            "Epoch 48/100\n",
            "4/4 [==============================] - 0s 39ms/step - loss: 0.3262 - accuracy: 0.8611 - val_loss: 0.5757 - val_accuracy: 0.7100\n",
            "Epoch 49/100\n",
            "4/4 [==============================] - 0s 41ms/step - loss: 0.3222 - accuracy: 0.8586 - val_loss: 0.5761 - val_accuracy: 0.7100\n",
            "Epoch 50/100\n",
            "4/4 [==============================] - 0s 33ms/step - loss: 0.3202 - accuracy: 0.8586 - val_loss: 0.5782 - val_accuracy: 0.7100\n",
            "Epoch 51/100\n",
            "4/4 [==============================] - 0s 46ms/step - loss: 0.3168 - accuracy: 0.8611 - val_loss: 0.5808 - val_accuracy: 0.7100\n",
            "Epoch 52/100\n",
            "4/4 [==============================] - 0s 59ms/step - loss: 0.3138 - accuracy: 0.8636 - val_loss: 0.5826 - val_accuracy: 0.7100\n",
            "Epoch 53/100\n",
            "4/4 [==============================] - 0s 54ms/step - loss: 0.3110 - accuracy: 0.8636 - val_loss: 0.5844 - val_accuracy: 0.7100\n",
            "Epoch 54/100\n",
            "4/4 [==============================] - 0s 51ms/step - loss: 0.3106 - accuracy: 0.8687 - val_loss: 0.5882 - val_accuracy: 0.7100\n",
            "Epoch 55/100\n",
            "4/4 [==============================] - 0s 35ms/step - loss: 0.3058 - accuracy: 0.8662 - val_loss: 0.5887 - val_accuracy: 0.7200\n",
            "Epoch 56/100\n",
            "4/4 [==============================] - 0s 54ms/step - loss: 0.3039 - accuracy: 0.8687 - val_loss: 0.5909 - val_accuracy: 0.7300\n",
            "Epoch 57/100\n",
            "4/4 [==============================] - 0s 46ms/step - loss: 0.3022 - accuracy: 0.8737 - val_loss: 0.5933 - val_accuracy: 0.7100\n",
            "Epoch 58/100\n",
            "4/4 [==============================] - 0s 47ms/step - loss: 0.2977 - accuracy: 0.8662 - val_loss: 0.5966 - val_accuracy: 0.7100\n",
            "Epoch 59/100\n",
            "4/4 [==============================] - 0s 53ms/step - loss: 0.2954 - accuracy: 0.8662 - val_loss: 0.5958 - val_accuracy: 0.7200\n",
            "Epoch 60/100\n",
            "4/4 [==============================] - 0s 56ms/step - loss: 0.2926 - accuracy: 0.8788 - val_loss: 0.5962 - val_accuracy: 0.7300\n",
            "Epoch 61/100\n",
            "4/4 [==============================] - 0s 49ms/step - loss: 0.2908 - accuracy: 0.8838 - val_loss: 0.5980 - val_accuracy: 0.7300\n",
            "Epoch 62/100\n",
            "4/4 [==============================] - 0s 52ms/step - loss: 0.2884 - accuracy: 0.8737 - val_loss: 0.6006 - val_accuracy: 0.7300\n",
            "Epoch 63/100\n",
            "4/4 [==============================] - 0s 52ms/step - loss: 0.2851 - accuracy: 0.8788 - val_loss: 0.6040 - val_accuracy: 0.7200\n",
            "Epoch 64/100\n",
            "4/4 [==============================] - 0s 45ms/step - loss: 0.2822 - accuracy: 0.8763 - val_loss: 0.6071 - val_accuracy: 0.7100\n",
            "Epoch 65/100\n",
            "4/4 [==============================] - 0s 46ms/step - loss: 0.2803 - accuracy: 0.8788 - val_loss: 0.6076 - val_accuracy: 0.7300\n",
            "Epoch 66/100\n",
            "4/4 [==============================] - 0s 43ms/step - loss: 0.2779 - accuracy: 0.8788 - val_loss: 0.6086 - val_accuracy: 0.7300\n",
            "Epoch 67/100\n",
            "4/4 [==============================] - 0s 46ms/step - loss: 0.2764 - accuracy: 0.8889 - val_loss: 0.6106 - val_accuracy: 0.7300\n",
            "Epoch 68/100\n",
            "4/4 [==============================] - 0s 42ms/step - loss: 0.2727 - accuracy: 0.8939 - val_loss: 0.6134 - val_accuracy: 0.7300\n",
            "Epoch 69/100\n",
            "4/4 [==============================] - 0s 41ms/step - loss: 0.2716 - accuracy: 0.8813 - val_loss: 0.6178 - val_accuracy: 0.7400\n",
            "Epoch 70/100\n",
            "4/4 [==============================] - 0s 41ms/step - loss: 0.2690 - accuracy: 0.8838 - val_loss: 0.6175 - val_accuracy: 0.7300\n",
            "Epoch 71/100\n",
            "4/4 [==============================] - 0s 45ms/step - loss: 0.2664 - accuracy: 0.8864 - val_loss: 0.6222 - val_accuracy: 0.7300\n",
            "Epoch 72/100\n",
            "4/4 [==============================] - 0s 46ms/step - loss: 0.2626 - accuracy: 0.8939 - val_loss: 0.6236 - val_accuracy: 0.7300\n",
            "Epoch 73/100\n",
            "4/4 [==============================] - 0s 49ms/step - loss: 0.2605 - accuracy: 0.8889 - val_loss: 0.6259 - val_accuracy: 0.7400\n",
            "Epoch 74/100\n",
            "4/4 [==============================] - 0s 52ms/step - loss: 0.2597 - accuracy: 0.8939 - val_loss: 0.6257 - val_accuracy: 0.7300\n",
            "Epoch 75/100\n",
            "4/4 [==============================] - 0s 43ms/step - loss: 0.2561 - accuracy: 0.8965 - val_loss: 0.6286 - val_accuracy: 0.7300\n",
            "Epoch 76/100\n",
            "4/4 [==============================] - 0s 50ms/step - loss: 0.2540 - accuracy: 0.8965 - val_loss: 0.6311 - val_accuracy: 0.7300\n",
            "Epoch 77/100\n",
            "4/4 [==============================] - 0s 49ms/step - loss: 0.2509 - accuracy: 0.9015 - val_loss: 0.6349 - val_accuracy: 0.7300\n",
            "Epoch 78/100\n",
            "4/4 [==============================] - 0s 42ms/step - loss: 0.2498 - accuracy: 0.9040 - val_loss: 0.6342 - val_accuracy: 0.7300\n",
            "Epoch 79/100\n",
            "4/4 [==============================] - 0s 52ms/step - loss: 0.2469 - accuracy: 0.9040 - val_loss: 0.6356 - val_accuracy: 0.7300\n",
            "Epoch 80/100\n",
            "4/4 [==============================] - 0s 40ms/step - loss: 0.2448 - accuracy: 0.9015 - val_loss: 0.6368 - val_accuracy: 0.7300\n",
            "Epoch 81/100\n",
            "4/4 [==============================] - 0s 45ms/step - loss: 0.2424 - accuracy: 0.9141 - val_loss: 0.6409 - val_accuracy: 0.7200\n",
            "Epoch 82/100\n",
            "4/4 [==============================] - 0s 44ms/step - loss: 0.2401 - accuracy: 0.9141 - val_loss: 0.6437 - val_accuracy: 0.7300\n",
            "Epoch 83/100\n",
            "4/4 [==============================] - 0s 52ms/step - loss: 0.2388 - accuracy: 0.9167 - val_loss: 0.6445 - val_accuracy: 0.7300\n",
            "Epoch 84/100\n",
            "4/4 [==============================] - 0s 53ms/step - loss: 0.2376 - accuracy: 0.9066 - val_loss: 0.6471 - val_accuracy: 0.7300\n",
            "Epoch 85/100\n",
            "4/4 [==============================] - 0s 42ms/step - loss: 0.2358 - accuracy: 0.9066 - val_loss: 0.6513 - val_accuracy: 0.7400\n",
            "Epoch 86/100\n",
            "4/4 [==============================] - 0s 46ms/step - loss: 0.2335 - accuracy: 0.9116 - val_loss: 0.6516 - val_accuracy: 0.7500\n",
            "Epoch 87/100\n",
            "4/4 [==============================] - 0s 46ms/step - loss: 0.2306 - accuracy: 0.9167 - val_loss: 0.6552 - val_accuracy: 0.7500\n",
            "Epoch 88/100\n",
            "4/4 [==============================] - 0s 59ms/step - loss: 0.2280 - accuracy: 0.9192 - val_loss: 0.6592 - val_accuracy: 0.7400\n",
            "Epoch 89/100\n",
            "4/4 [==============================] - 0s 60ms/step - loss: 0.2269 - accuracy: 0.9192 - val_loss: 0.6594 - val_accuracy: 0.7500\n",
            "Epoch 90/100\n",
            "4/4 [==============================] - 0s 48ms/step - loss: 0.2261 - accuracy: 0.9141 - val_loss: 0.6607 - val_accuracy: 0.7300\n",
            "Epoch 91/100\n",
            "4/4 [==============================] - 0s 48ms/step - loss: 0.2218 - accuracy: 0.9141 - val_loss: 0.6608 - val_accuracy: 0.7400\n",
            "Epoch 92/100\n",
            "4/4 [==============================] - 0s 43ms/step - loss: 0.2233 - accuracy: 0.9116 - val_loss: 0.6658 - val_accuracy: 0.7400\n",
            "Epoch 93/100\n",
            "4/4 [==============================] - 0s 39ms/step - loss: 0.2197 - accuracy: 0.9167 - val_loss: 0.6642 - val_accuracy: 0.7500\n",
            "Epoch 94/100\n",
            "4/4 [==============================] - 0s 45ms/step - loss: 0.2163 - accuracy: 0.9116 - val_loss: 0.6657 - val_accuracy: 0.7400\n",
            "Epoch 95/100\n",
            "4/4 [==============================] - 0s 44ms/step - loss: 0.2138 - accuracy: 0.9167 - val_loss: 0.6705 - val_accuracy: 0.7300\n",
            "Epoch 96/100\n",
            "4/4 [==============================] - 0s 49ms/step - loss: 0.2136 - accuracy: 0.9141 - val_loss: 0.6712 - val_accuracy: 0.7400\n",
            "Epoch 97/100\n",
            "4/4 [==============================] - 0s 40ms/step - loss: 0.2103 - accuracy: 0.9192 - val_loss: 0.6721 - val_accuracy: 0.7400\n",
            "Epoch 98/100\n",
            "4/4 [==============================] - 0s 42ms/step - loss: 0.2089 - accuracy: 0.9192 - val_loss: 0.6744 - val_accuracy: 0.7400\n",
            "Epoch 99/100\n",
            "4/4 [==============================] - 0s 41ms/step - loss: 0.2058 - accuracy: 0.9217 - val_loss: 0.6758 - val_accuracy: 0.7400\n",
            "Epoch 100/100\n",
            "4/4 [==============================] - 0s 44ms/step - loss: 0.2060 - accuracy: 0.9217 - val_loss: 0.6804 - val_accuracy: 0.7400\n"
          ]
        }
      ],
      "source": [
        "# ANN model\n",
        "from tensorflow import keras\n",
        "from tensorflow.keras import layers\n",
        "\n",
        "classifier = keras.Sequential([\n",
        "    layers.Dense(units=100, activation='relu', input_dim=12),  # Input layer with 12 features\n",
        "    layers.Dense(units=50, activation='relu'),\n",
        "    layers.Dense(units=1, activation='sigmoid')\n",
        "])\n",
        "\n",
        "classifier.compile(optimizer='adam', loss='binary_crossentropy', metrics=['accuracy'])\n",
        "\n",
        "# Fit the model to the training set\n",
        "model_history = classifier.fit(X_train, y_train, batch_size=100, validation_split=0.2, epochs=100)\n"
      ]
    },
    {
      "cell_type": "markdown",
      "metadata": {
        "id": "bblB0IuRW2H7"
      },
      "source": [
        "TESTING THE MODEL"
      ]
    },
    {
      "cell_type": "code",
      "execution_count": 46,
      "metadata": {
        "colab": {
          "base_uri": "https://localhost:8080/"
        },
        "id": "YgoVkWsFLw52",
        "outputId": "4b5331c8-471e-4845-8f77-1f5a413e2ca2"
      },
      "outputs": [
        {
          "name": "stdout",
          "output_type": "stream",
          "text": [
            "[0.]\n"
          ]
        },
        {
          "name": "stderr",
          "output_type": "stream",
          "text": [
            "C:\\Users\\thara\\AppData\\Local\\Packages\\PythonSoftwareFoundation.Python.3.10_qbz5n2kfra8p0\\LocalCache\\local-packages\\Python310\\site-packages\\sklearn\\base.py:464: UserWarning: X does not have valid feature names, but DecisionTreeRegressor was fitted with feature names\n",
            "  warnings.warn(\n"
          ]
        }
      ],
      "source": [
        "from sklearn.tree import DecisionTreeRegressor\n",
        "dtr = DecisionTreeRegressor()\n",
        "dtr.fit(x, y)\n",
        "predictions = dtr.predict([[1, 1, 0, 1, 1, 4276, 1542, 145, 240, 0, 1, 0]])\n",
        "print(predictions)"
      ]
    },
    {
      "cell_type": "code",
      "execution_count": 47,
      "metadata": {
        "colab": {
          "base_uri": "https://localhost:8080/"
        },
        "id": "ReMZkhFNae94",
        "outputId": "7a792056-d0e3-48a9-e384-cfa706c82749"
      },
      "outputs": [
        {
          "name": "stdout",
          "output_type": "stream",
          "text": [
            "[0.76]\n"
          ]
        },
        {
          "name": "stderr",
          "output_type": "stream",
          "text": [
            "C:\\Users\\thara\\AppData\\Local\\Packages\\PythonSoftwareFoundation.Python.3.10_qbz5n2kfra8p0\\LocalCache\\local-packages\\Python310\\site-packages\\sklearn\\base.py:464: UserWarning: X does not have valid feature names, but RandomForestRegressor was fitted with feature names\n",
            "  warnings.warn(\n"
          ]
        }
      ],
      "source": [
        "from sklearn.ensemble import RandomForestRegressor\n",
        "rfr = RandomForestRegressor()\n",
        "rfr.fit(x, y)\n",
        "predictions = rfr.predict([[1, 1, 0, 1, 1, 4276, 1542, 145, 240, 0, 1, 0]])\n",
        "print(predictions)"
      ]
    },
    {
      "cell_type": "code",
      "execution_count": 48,
      "metadata": {
        "colab": {
          "base_uri": "https://localhost:8080/"
        },
        "id": "bjZXHosabgg_",
        "outputId": "4f3cb9c3-6351-42e4-a6e4-48aaa64cd4c2"
      },
      "outputs": [
        {
          "name": "stdout",
          "output_type": "stream",
          "text": [
            "[0.6]\n"
          ]
        },
        {
          "name": "stderr",
          "output_type": "stream",
          "text": [
            "C:\\Users\\thara\\AppData\\Local\\Packages\\PythonSoftwareFoundation.Python.3.10_qbz5n2kfra8p0\\LocalCache\\local-packages\\Python310\\site-packages\\sklearn\\base.py:464: UserWarning: X does not have valid feature names, but KNeighborsRegressor was fitted with feature names\n",
            "  warnings.warn(\n"
          ]
        }
      ],
      "source": [
        "from sklearn.neighbors import KNeighborsRegressor\n",
        "knn = KNeighborsRegressor()\n",
        "knn.fit(x, y)\n",
        "predictions = knn.predict([[1, 1, 0, 1, 1, 4276, 1542, 145, 240, 0, 1, 0]])\n",
        "print(predictions)"
      ]
    },
    {
      "cell_type": "code",
      "execution_count": 49,
      "metadata": {
        "colab": {
          "base_uri": "https://localhost:8080/"
        },
        "id": "J2R2h3c9b7_i",
        "outputId": "57e7814c-5d38-46ee-f6e3-227a471534cc"
      },
      "outputs": [
        {
          "name": "stdout",
          "output_type": "stream",
          "text": [
            "[0.9461894]\n"
          ]
        }
      ],
      "source": [
        "import xgboost as xgb\n",
        "xgboost_model = xgb.XGBRegressor()\n",
        "xgboost_model.fit(x, y)\n",
        "predictions = xgboost_model.predict([[1, 1, 0, 1, 1, 4276, 1542, 145, 240, 0, 1, 0]])\n",
        "print(predictions)"
      ]
    },
    {
      "cell_type": "markdown",
      "metadata": {
        "id": "AHJRLx6BcvQc"
      },
      "source": [
        "IN ANN WE FIRST HAVE TO SAVE THE MODEL TO TEST THE INPUT."
      ]
    },
    {
      "cell_type": "code",
      "execution_count": 50,
      "metadata": {
        "colab": {
          "base_uri": "https://localhost:8080/"
        },
        "id": "ifER8kpNcadI",
        "outputId": "4dfa26a7-5edd-456f-9bd8-fb908a9e8854"
      },
      "outputs": [
        {
          "name": "stderr",
          "output_type": "stream",
          "text": [
            "C:\\Users\\thara\\AppData\\Local\\Packages\\PythonSoftwareFoundation.Python.3.10_qbz5n2kfra8p0\\LocalCache\\local-packages\\Python310\\site-packages\\keras\\src\\engine\\training.py:3079: UserWarning: You are saving your model as an HDF5 file via `model.save()`. This file format is considered legacy. We recommend using instead the native Keras format, e.g. `model.save('my_model.keras')`.\n",
            "  saving_api.save_model(\n"
          ]
        }
      ],
      "source": [
        "classifier.save(\"loan.h5\")"
      ]
    },
    {
      "cell_type": "code",
      "execution_count": 51,
      "metadata": {},
      "outputs": [],
      "source": [
        "X_test= np.array(X_test, dtype=np.float32)"
      ]
    },
    {
      "cell_type": "code",
      "execution_count": 52,
      "metadata": {},
      "outputs": [
        {
          "name": "stdout",
          "output_type": "stream",
          "text": [
            "8/8 [==============================] - 0s 4ms/step\n",
            "Accuracy: 0.75\n",
            "Confusion Matrix:\n",
            "[[85 28]\n",
            " [33 99]]\n",
            "Classification Report:\n",
            "              precision    recall  f1-score   support\n",
            "\n",
            "     Class 0       0.72      0.75      0.74       113\n",
            "     Class 1       0.78      0.75      0.76       132\n",
            "\n",
            "    accuracy                           0.75       245\n",
            "   macro avg       0.75      0.75      0.75       245\n",
            "weighted avg       0.75      0.75      0.75       245\n",
            "\n"
          ]
        }
      ],
      "source": [
        "# Predict the test data using the trained model\n",
        "y_pred = classifier.predict(X_test)\n",
        "# Convert predicted probabilities to binary labels (0 or 1)\n",
        "y_pred_binary = np.round(y_pred)\n",
        "# Calculate the accuracy of the model on the test data\n",
        "accuracy = accuracy_score(y_test, y_pred_binary)\n",
        "print(f\"Accuracy: {accuracy:.2f}\")\n",
        "# Create a confusion matrix\n",
        "confusion = confusion_matrix(y_test, y_pred_binary)\n",
        "print(\"Confusion Matrix:\")\n",
        "print(confusion)\n",
        "# Generate a classification report\n",
        "classification_report = classification_report(y_test, y_pred_binary, target_names=[\"Class 0\", \"Class 1\"])\n",
        "print(\"Classification Report:\")\n",
        "print(classification_report)\n"
      ]
    },
    {
      "cell_type": "code",
      "execution_count": 53,
      "metadata": {},
      "outputs": [
        {
          "data": {
            "text/plain": [
              "array([[7.5612742e-01],\n",
              "       [5.3672010e-01],\n",
              "       [8.0714762e-01],\n",
              "       [5.4747224e-01],\n",
              "       [9.8572671e-01],\n",
              "       [5.0689077e-01],\n",
              "       [8.8916522e-01],\n",
              "       [4.4941515e-01],\n",
              "       [5.6102759e-01],\n",
              "       [4.9683532e-01],\n",
              "       [9.4559437e-01],\n",
              "       [5.6683576e-01],\n",
              "       [1.4354399e-02],\n",
              "       [9.9338758e-01],\n",
              "       [1.9491999e-01],\n",
              "       [1.1710348e-02],\n",
              "       [9.6109343e-01],\n",
              "       [8.0961543e-01],\n",
              "       [8.4824795e-01],\n",
              "       [6.9589013e-01],\n",
              "       [6.8193609e-01],\n",
              "       [3.8377270e-01],\n",
              "       [9.5958936e-01],\n",
              "       [9.6318060e-01],\n",
              "       [2.1452645e-03],\n",
              "       [1.8197188e-01],\n",
              "       [9.3139875e-01],\n",
              "       [9.4904059e-01],\n",
              "       [9.3674725e-01],\n",
              "       [4.3851770e-03],\n",
              "       [3.6873490e-01],\n",
              "       [4.0415180e-01],\n",
              "       [2.0268131e-03],\n",
              "       [3.2359097e-02],\n",
              "       [9.8391116e-01],\n",
              "       [9.5945472e-01],\n",
              "       [7.0261978e-02],\n",
              "       [5.0640690e-01],\n",
              "       [1.2432816e-02],\n",
              "       [9.8981631e-01],\n",
              "       [8.3388045e-04],\n",
              "       [3.7787784e-02],\n",
              "       [1.0489214e-03],\n",
              "       [4.7293463e-05],\n",
              "       [6.8794930e-01],\n",
              "       [9.4214606e-01],\n",
              "       [9.3735373e-01],\n",
              "       [1.5376361e-01],\n",
              "       [4.3891653e-01],\n",
              "       [7.6879835e-01],\n",
              "       [4.4765010e-01],\n",
              "       [5.0840119e-04],\n",
              "       [1.5172984e-03],\n",
              "       [4.0186793e-01],\n",
              "       [6.7629186e-03],\n",
              "       [5.6406575e-01],\n",
              "       [7.9444498e-01],\n",
              "       [3.3469713e-01],\n",
              "       [3.4814449e-03],\n",
              "       [3.5361353e-01],\n",
              "       [1.6317811e-02],\n",
              "       [9.9783057e-01],\n",
              "       [9.8827332e-01],\n",
              "       [9.9051464e-01],\n",
              "       [6.6424996e-01],\n",
              "       [9.0319252e-01],\n",
              "       [9.4934690e-01],\n",
              "       [1.8607089e-01],\n",
              "       [1.5610093e-02],\n",
              "       [8.1529969e-01],\n",
              "       [4.6994945e-05],\n",
              "       [3.4681287e-01],\n",
              "       [1.3587972e-02],\n",
              "       [3.3423569e-02],\n",
              "       [7.7403951e-01],\n",
              "       [6.0832149e-01],\n",
              "       [5.6645502e-03],\n",
              "       [8.4251249e-01],\n",
              "       [5.1298237e-01],\n",
              "       [5.0381038e-02],\n",
              "       [7.2171651e-02],\n",
              "       [1.0236450e-03],\n",
              "       [9.8206615e-03],\n",
              "       [4.6491751e-01],\n",
              "       [6.2239498e-01],\n",
              "       [6.1200422e-01],\n",
              "       [1.6305813e-03],\n",
              "       [3.9784395e-06],\n",
              "       [2.5215144e-03],\n",
              "       [9.3465334e-01],\n",
              "       [2.5217739e-01],\n",
              "       [1.2187044e-04],\n",
              "       [6.4500022e-01],\n",
              "       [7.5355643e-01],\n",
              "       [5.8219159e-01],\n",
              "       [3.4339024e-05],\n",
              "       [4.5831814e-02],\n",
              "       [5.5379653e-01],\n",
              "       [6.1947781e-01],\n",
              "       [6.6937590e-01],\n",
              "       [6.4832705e-01],\n",
              "       [3.8032812e-01],\n",
              "       [8.0549043e-01],\n",
              "       [2.8478590e-01],\n",
              "       [2.9928759e-02],\n",
              "       [8.9435744e-01],\n",
              "       [4.3870562e-01],\n",
              "       [9.0791500e-01],\n",
              "       [3.9020929e-01],\n",
              "       [1.4403416e-01],\n",
              "       [1.0753783e-03],\n",
              "       [3.8421242e-03],\n",
              "       [9.5476437e-01],\n",
              "       [6.2842572e-01],\n",
              "       [1.2246499e-01],\n",
              "       [1.3722560e-01],\n",
              "       [1.8725060e-02],\n",
              "       [5.7374740e-01],\n",
              "       [2.9787919e-01],\n",
              "       [8.0669361e-01],\n",
              "       [8.2701957e-01],\n",
              "       [3.9761764e-01],\n",
              "       [9.9226785e-01],\n",
              "       [8.0580181e-01],\n",
              "       [7.0123291e-01],\n",
              "       [3.7650054e-05],\n",
              "       [3.7938204e-01],\n",
              "       [4.9526259e-01],\n",
              "       [5.0277948e-01],\n",
              "       [9.8749506e-01],\n",
              "       [1.7680193e-01],\n",
              "       [9.9152189e-01],\n",
              "       [9.4514745e-01],\n",
              "       [9.8569188e-03],\n",
              "       [4.1840733e-03],\n",
              "       [5.7683408e-01],\n",
              "       [1.3870147e-01],\n",
              "       [6.7482464e-04],\n",
              "       [7.3694594e-02],\n",
              "       [9.3391174e-01],\n",
              "       [7.9543656e-01],\n",
              "       [8.0974710e-01],\n",
              "       [3.3400455e-03],\n",
              "       [8.7844169e-01],\n",
              "       [6.7003281e-04],\n",
              "       [5.7806098e-01],\n",
              "       [9.3308443e-01],\n",
              "       [6.7813557e-01],\n",
              "       [6.8054610e-01],\n",
              "       [6.1450332e-01],\n",
              "       [9.6630985e-01],\n",
              "       [6.0702574e-01],\n",
              "       [1.6934025e-01],\n",
              "       [3.1865847e-01],\n",
              "       [8.7376171e-01],\n",
              "       [3.5313688e-02],\n",
              "       [1.6515422e-01],\n",
              "       [2.0503621e-01],\n",
              "       [7.0777196e-01],\n",
              "       [3.4421781e-01],\n",
              "       [9.8622978e-01],\n",
              "       [7.2492439e-01],\n",
              "       [3.1886280e-01],\n",
              "       [6.5744770e-01],\n",
              "       [7.4065048e-03],\n",
              "       [3.6884505e-01],\n",
              "       [8.1854975e-01],\n",
              "       [9.6904069e-01],\n",
              "       [5.6410432e-02],\n",
              "       [9.9886858e-01],\n",
              "       [9.4861042e-01],\n",
              "       [6.0702574e-01],\n",
              "       [8.6840022e-01],\n",
              "       [4.3582839e-01],\n",
              "       [3.9984572e-01],\n",
              "       [2.9061122e-05],\n",
              "       [3.6588658e-04],\n",
              "       [9.5988053e-01],\n",
              "       [9.1580141e-01],\n",
              "       [5.1182288e-01],\n",
              "       [8.4757292e-01],\n",
              "       [6.6825314e-03],\n",
              "       [8.4546548e-01],\n",
              "       [8.6255711e-01],\n",
              "       [9.9844140e-01],\n",
              "       [1.0018896e-01],\n",
              "       [9.8833209e-01],\n",
              "       [6.6983205e-01],\n",
              "       [4.6779224e-01],\n",
              "       [6.3898134e-01],\n",
              "       [9.5353228e-01],\n",
              "       [9.5628637e-01],\n",
              "       [3.0936068e-01],\n",
              "       [1.5569267e-01],\n",
              "       [5.1026111e-03],\n",
              "       [2.2707322e-01],\n",
              "       [8.1439430e-01],\n",
              "       [9.2835474e-01],\n",
              "       [2.4402960e-01],\n",
              "       [1.0136546e-03],\n",
              "       [6.1446965e-01],\n",
              "       [2.0245038e-01],\n",
              "       [4.1715166e-01],\n",
              "       [6.5400422e-01],\n",
              "       [9.1109741e-01],\n",
              "       [9.2363578e-01],\n",
              "       [6.7723447e-01],\n",
              "       [2.8680244e-01],\n",
              "       [1.3242413e-01],\n",
              "       [9.8031199e-01],\n",
              "       [9.3942827e-01],\n",
              "       [1.3014073e-04],\n",
              "       [2.8238276e-01],\n",
              "       [6.5472490e-01],\n",
              "       [9.9528921e-01],\n",
              "       [4.4304025e-01],\n",
              "       [7.9463899e-01],\n",
              "       [8.3361269e-04],\n",
              "       [5.4316287e-04],\n",
              "       [8.8929988e-02],\n",
              "       [9.9522579e-01],\n",
              "       [1.3752855e-01],\n",
              "       [5.1300585e-01],\n",
              "       [3.3038974e-02],\n",
              "       [8.1109619e-01],\n",
              "       [6.9642001e-01],\n",
              "       [9.9463350e-01],\n",
              "       [9.8486066e-01],\n",
              "       [5.8057383e-03],\n",
              "       [6.2089527e-01],\n",
              "       [2.4456134e-02],\n",
              "       [8.4590888e-01],\n",
              "       [5.6025106e-01],\n",
              "       [4.5967582e-01],\n",
              "       [6.2347615e-01],\n",
              "       [3.1558791e-04],\n",
              "       [5.8618855e-01],\n",
              "       [3.5251086e-04],\n",
              "       [9.9283147e-01],\n",
              "       [3.8619751e-01],\n",
              "       [4.3696064e-01],\n",
              "       [1.2487044e-01],\n",
              "       [3.1802439e-04],\n",
              "       [1.2710208e-01],\n",
              "       [8.3557546e-01]], dtype=float32)"
            ]
          },
          "execution_count": 53,
          "metadata": {},
          "output_type": "execute_result"
        }
      ],
      "source": [
        "y_pred"
      ]
    },
    {
      "cell_type": "code",
      "execution_count": 54,
      "metadata": {},
      "outputs": [
        {
          "data": {
            "text/plain": [
              "array([[ True],\n",
              "       [ True],\n",
              "       [ True],\n",
              "       [ True],\n",
              "       [ True],\n",
              "       [ True],\n",
              "       [ True],\n",
              "       [False],\n",
              "       [ True],\n",
              "       [False],\n",
              "       [ True],\n",
              "       [ True],\n",
              "       [False],\n",
              "       [ True],\n",
              "       [False],\n",
              "       [False],\n",
              "       [ True],\n",
              "       [ True],\n",
              "       [ True],\n",
              "       [ True],\n",
              "       [ True],\n",
              "       [False],\n",
              "       [ True],\n",
              "       [ True],\n",
              "       [False],\n",
              "       [False],\n",
              "       [ True],\n",
              "       [ True],\n",
              "       [ True],\n",
              "       [False],\n",
              "       [False],\n",
              "       [False],\n",
              "       [False],\n",
              "       [False],\n",
              "       [ True],\n",
              "       [ True],\n",
              "       [False],\n",
              "       [ True],\n",
              "       [False],\n",
              "       [ True],\n",
              "       [False],\n",
              "       [False],\n",
              "       [False],\n",
              "       [False],\n",
              "       [ True],\n",
              "       [ True],\n",
              "       [ True],\n",
              "       [False],\n",
              "       [False],\n",
              "       [ True],\n",
              "       [False],\n",
              "       [False],\n",
              "       [False],\n",
              "       [False],\n",
              "       [False],\n",
              "       [ True],\n",
              "       [ True],\n",
              "       [False],\n",
              "       [False],\n",
              "       [False],\n",
              "       [False],\n",
              "       [ True],\n",
              "       [ True],\n",
              "       [ True],\n",
              "       [ True],\n",
              "       [ True],\n",
              "       [ True],\n",
              "       [False],\n",
              "       [False],\n",
              "       [ True],\n",
              "       [False],\n",
              "       [False],\n",
              "       [False],\n",
              "       [False],\n",
              "       [ True],\n",
              "       [ True],\n",
              "       [False],\n",
              "       [ True],\n",
              "       [ True],\n",
              "       [False],\n",
              "       [False],\n",
              "       [False],\n",
              "       [False],\n",
              "       [False],\n",
              "       [ True],\n",
              "       [ True],\n",
              "       [False],\n",
              "       [False],\n",
              "       [False],\n",
              "       [ True],\n",
              "       [False],\n",
              "       [False],\n",
              "       [ True],\n",
              "       [ True],\n",
              "       [ True],\n",
              "       [False],\n",
              "       [False],\n",
              "       [ True],\n",
              "       [ True],\n",
              "       [ True],\n",
              "       [ True],\n",
              "       [False],\n",
              "       [ True],\n",
              "       [False],\n",
              "       [False],\n",
              "       [ True],\n",
              "       [False],\n",
              "       [ True],\n",
              "       [False],\n",
              "       [False],\n",
              "       [False],\n",
              "       [False],\n",
              "       [ True],\n",
              "       [ True],\n",
              "       [False],\n",
              "       [False],\n",
              "       [False],\n",
              "       [ True],\n",
              "       [False],\n",
              "       [ True],\n",
              "       [ True],\n",
              "       [False],\n",
              "       [ True],\n",
              "       [ True],\n",
              "       [ True],\n",
              "       [False],\n",
              "       [False],\n",
              "       [False],\n",
              "       [ True],\n",
              "       [ True],\n",
              "       [False],\n",
              "       [ True],\n",
              "       [ True],\n",
              "       [False],\n",
              "       [False],\n",
              "       [ True],\n",
              "       [False],\n",
              "       [False],\n",
              "       [False],\n",
              "       [ True],\n",
              "       [ True],\n",
              "       [ True],\n",
              "       [False],\n",
              "       [ True],\n",
              "       [False],\n",
              "       [ True],\n",
              "       [ True],\n",
              "       [ True],\n",
              "       [ True],\n",
              "       [ True],\n",
              "       [ True],\n",
              "       [ True],\n",
              "       [False],\n",
              "       [False],\n",
              "       [ True],\n",
              "       [False],\n",
              "       [False],\n",
              "       [False],\n",
              "       [ True],\n",
              "       [False],\n",
              "       [ True],\n",
              "       [ True],\n",
              "       [False],\n",
              "       [ True],\n",
              "       [False],\n",
              "       [False],\n",
              "       [ True],\n",
              "       [ True],\n",
              "       [False],\n",
              "       [ True],\n",
              "       [ True],\n",
              "       [ True],\n",
              "       [ True],\n",
              "       [False],\n",
              "       [False],\n",
              "       [False],\n",
              "       [False],\n",
              "       [ True],\n",
              "       [ True],\n",
              "       [ True],\n",
              "       [ True],\n",
              "       [False],\n",
              "       [ True],\n",
              "       [ True],\n",
              "       [ True],\n",
              "       [False],\n",
              "       [ True],\n",
              "       [ True],\n",
              "       [False],\n",
              "       [ True],\n",
              "       [ True],\n",
              "       [ True],\n",
              "       [False],\n",
              "       [False],\n",
              "       [False],\n",
              "       [False],\n",
              "       [ True],\n",
              "       [ True],\n",
              "       [False],\n",
              "       [False],\n",
              "       [ True],\n",
              "       [False],\n",
              "       [False],\n",
              "       [ True],\n",
              "       [ True],\n",
              "       [ True],\n",
              "       [ True],\n",
              "       [False],\n",
              "       [False],\n",
              "       [ True],\n",
              "       [ True],\n",
              "       [False],\n",
              "       [False],\n",
              "       [ True],\n",
              "       [ True],\n",
              "       [False],\n",
              "       [ True],\n",
              "       [False],\n",
              "       [False],\n",
              "       [False],\n",
              "       [ True],\n",
              "       [False],\n",
              "       [ True],\n",
              "       [False],\n",
              "       [ True],\n",
              "       [ True],\n",
              "       [ True],\n",
              "       [ True],\n",
              "       [False],\n",
              "       [ True],\n",
              "       [False],\n",
              "       [ True],\n",
              "       [ True],\n",
              "       [False],\n",
              "       [ True],\n",
              "       [False],\n",
              "       [ True],\n",
              "       [False],\n",
              "       [ True],\n",
              "       [False],\n",
              "       [False],\n",
              "       [False],\n",
              "       [False],\n",
              "       [False],\n",
              "       [ True]])"
            ]
          },
          "execution_count": 54,
          "metadata": {},
          "output_type": "execute_result"
        }
      ],
      "source": [
        "y_pred = (y_pred > 0.5)\n",
        "y_pred"
      ]
    },
    {
      "cell_type": "code",
      "execution_count": 55,
      "metadata": {},
      "outputs": [],
      "source": [
        "def predict_exit(sample_value):\n",
        "    sample_value = np.array(sample_value)\n",
        "    sample_value = sample_value.reshape(1,-1)\n",
        "    sample_value = scalar.transform(sample_value)\n",
        "    return classifier.predict(sample_value)"
      ]
    },
    {
      "cell_type": "code",
      "execution_count": 56,
      "metadata": {
        "colab": {
          "base_uri": "https://localhost:8080/",
          "height": 806
        },
        "id": "OUVXoOiXOBNr",
        "outputId": "fca0a10d-2bad-4acf-ac9d-3321d23528bc"
      },
      "outputs": [
        {
          "name": "stdout",
          "output_type": "stream",
          "text": [
            "1/1 [==============================] - 0s 280ms/step\n",
            "Prediction: High chance of Loan Approval!\n"
          ]
        }
      ],
      "source": [
        "# Sample value for prediction\n",
        "sample_value = [[1, 1, 0, 1, 1, 4276, 1542, 145, 240, 0, 1, 0]]\n",
        "# Make a prediction using your model\n",
        "predicted_probability = classifier.predict(sample_value)\n",
        "# Assuming that 'classifier' is your trained model (e.g., a Keras model)\n",
        "# It may return a probability; you can interpret it as the likelihood of loan approval.\n",
        "# Set a threshold to determine the prediction result\n",
        "threshold = 0.5\n",
        "if predicted_probability > threshold:\n",
        "    print(\"Prediction: High chance of Loan Approval!\")\n",
        "else:\n",
        "    print(\"Prediction: Low chance of Loan Approval!\")"
      ]
    },
    {
      "cell_type": "code",
      "execution_count": 57,
      "metadata": {},
      "outputs": [
        {
          "name": "stdout",
          "output_type": "stream",
          "text": [
            "1/1 [==============================] - 0s 165ms/step\n",
            "Prediction: Low chance of Loan Approval!\n"
          ]
        }
      ],
      "source": [
        "# Sample value for prediction\n",
        "sample_value = [[1, 0, 1, 1, 1, 45, 14, 45, 240, 1, 1, 0]]\n",
        "# Make a prediction using your model\n",
        "predicted_probability = classifier.predict(sample_value)\n",
        "# Assuming that 'classifier' is your trained model (e.g., a Keras model)\n",
        "# It may return a probability; you can interpret it as the likelihood of loan approval.\n",
        "# Set a threshold to determine the prediction result\n",
        "threshold = 0.5\n",
        "if predicted_probability > threshold:\n",
        "    print(\"Prediction: High chance of Loan Approval!\")\n",
        "else:\n",
        "    print(\"Prediction: Low chance of Loan Approval!\")"
      ]
    },
    {
      "cell_type": "markdown",
      "metadata": {
        "id": "N1H0OZjEJC8V"
      },
      "source": [
        "## PERFORMANCE TESTING AND HYPERPARAMETER TUNING\n",
        "\n",
        "1. TESTING MODEL WITH MULTIPLE EVALUATION METRICS\n",
        "\n",
        "2. COMPARING MODEL ACCURACY BEFORE & AFTER APPLYING HYPERPARAMETER TUNING\n",
        "\n"
      ]
    },
    {
      "cell_type": "code",
      "execution_count": 58,
      "metadata": {},
      "outputs": [
        {
          "name": "stdout",
          "output_type": "stream",
          "text": [
            "*** Decision Tree ***\n",
            "Accuracy: 0.6979591836734694\n",
            "Confusion Matrix:\n",
            "[[76 37]\n",
            " [37 95]]\n",
            "Classification Report:\n",
            "              precision    recall  f1-score   support\n",
            "\n",
            "           0       0.67      0.67      0.67       113\n",
            "           1       0.72      0.72      0.72       132\n",
            "\n",
            "    accuracy                           0.70       245\n",
            "   macro avg       0.70      0.70      0.70       245\n",
            "weighted avg       0.70      0.70      0.70       245\n",
            "\n",
            "----------------------------------------------------------------------------------------------------\n",
            "*** Random Forest ***\n",
            "Accuracy: 0.8285714285714286\n",
            "Confusion Matrix:\n",
            "[[ 79  34]\n",
            " [  8 124]]\n",
            "Classification Report:\n",
            "              precision    recall  f1-score   support\n",
            "\n",
            "           0       0.91      0.70      0.79       113\n",
            "           1       0.78      0.94      0.86       132\n",
            "\n",
            "    accuracy                           0.83       245\n",
            "   macro avg       0.85      0.82      0.82       245\n",
            "weighted avg       0.84      0.83      0.83       245\n",
            "\n",
            "----------------------------------------------------------------------------------------------------\n",
            "*** XGBoost ***\n",
            "Accuracy: 0.7510204081632653\n",
            "Confusion Matrix:\n",
            "[[ 64  49]\n",
            " [ 12 120]]\n",
            "Classification Report:\n",
            "              precision    recall  f1-score   support\n",
            "\n",
            "           0       0.84      0.57      0.68       113\n",
            "           1       0.71      0.91      0.80       132\n",
            "\n",
            "    accuracy                           0.75       245\n",
            "   macro avg       0.78      0.74      0.74       245\n",
            "weighted avg       0.77      0.75      0.74       245\n",
            "\n",
            "----------------------------------------------------------------------------------------------------\n",
            "*** KNN ***\n",
            "Accuracy: 0.726530612244898\n",
            "Confusion Matrix:\n",
            "[[ 75  38]\n",
            " [ 29 103]]\n",
            "Classification Report:\n",
            "              precision    recall  f1-score   support\n",
            "\n",
            "           0       0.72      0.66      0.69       113\n",
            "           1       0.73      0.78      0.75       132\n",
            "\n",
            "    accuracy                           0.73       245\n",
            "   macro avg       0.73      0.72      0.72       245\n",
            "weighted avg       0.73      0.73      0.73       245\n",
            "\n",
            "----------------------------------------------------------------------------------------------------\n",
            "Highest Accuracy Model: Random Forest with Accuracy 0.8285714285714286\n",
            "Highest Accuracy: 0.8285714285714286\n"
          ]
        }
      ],
      "source": [
        "from sklearn.tree import DecisionTreeClassifier\n",
        "from sklearn.ensemble import RandomForestClassifier, GradientBoostingClassifier\n",
        "from sklearn.neighbors import KNeighborsClassifier\n",
        "from sklearn.metrics import accuracy_score, confusion_matrix, classification_report\n",
        "\n",
        "def train_decision_tree(X_train, y_train):\n",
        "    dt = DecisionTreeClassifier()\n",
        "    dt.fit(X_train, y_train)\n",
        "    return dt\n",
        "\n",
        "def train_random_forest(X_train, y_train):\n",
        "    rfr = RandomForestClassifier()\n",
        "    rfr.fit(X_train, y_train)\n",
        "    return rfr\n",
        "\n",
        "def train_xgboost(X_train, y_train):\n",
        "    xg = GradientBoostingClassifier()\n",
        "    xg.fit(X_train, y_train)\n",
        "    return xg\n",
        "\n",
        "def train_knn(X_train, y_train):\n",
        "    knn = KNeighborsClassifier()\n",
        "    knn.fit(X_train, y_train)\n",
        "    return knn\n",
        "\n",
        "def evaluate_model(model, X_test, y_test):\n",
        "    y_pred = model.predict(X_test)\n",
        "    accuracy = accuracy_score(y_test, y_pred)\n",
        "    print('Accuracy:', accuracy)\n",
        "    print('Confusion Matrix:')\n",
        "    print(confusion_matrix(y_test, y_pred))\n",
        "    print('Classification Report:')\n",
        "    print(classification_report(y_test, y_pred))\n",
        "    return accuracy\n",
        "\n",
        "def compareModel(X_train, X_test, y_train, y_test):\n",
        "    model_names = ['Decision Tree', 'Random Forest', 'XGBoost', 'KNN']\n",
        "    models = [train_decision_tree(X_train, y_train), train_random_forest(X_train, y_train),\n",
        "              train_xgboost(X_train, y_train), train_knn(X_train, y_train)]\n",
        "    \n",
        "    accuracies = []\n",
        "    \n",
        "    for model_name, model in zip(model_names, models):\n",
        "        print(f'*** {model_name} ***')\n",
        "        accuracy = evaluate_model(model, X_test, y_test)\n",
        "        accuracies.append((model_name, accuracy))\n",
        "        print('-' * 100)\n",
        "    \n",
        "    max_accuracy_model = max(accuracies, key=lambda x: x[1])\n",
        "    print(f'Highest Accuracy Model: {max_accuracy_model[0]} with Accuracy {max_accuracy_model[1]}')\n",
        "    \n",
        "    highest_accuracy = max_accuracy_model[1]  # Store the highest accuracy in a separate variable\n",
        "    return highest_accuracy\n",
        "\n",
        "# Split your data into training and testing sets (X_train, X_test, y_train, y_test)\n",
        "highest_accuracy = compareModel(X_train, X_test, y_train, y_test)\n",
        "print(f'Highest Accuracy: {highest_accuracy}')"
      ]
    },
    {
      "cell_type": "code",
      "execution_count": 59,
      "metadata": {},
      "outputs": [
        {
          "name": "stdout",
          "output_type": "stream",
          "text": [
            "*** Decision Tree ***\n",
            "Accuracy: 0.7061224489795919\n",
            "Confusion Matrix:\n",
            "[[77 36]\n",
            " [36 96]]\n",
            "Classification Report:\n",
            "              precision    recall  f1-score   support\n",
            "\n",
            "           0       0.68      0.68      0.68       113\n",
            "           1       0.73      0.73      0.73       132\n",
            "\n",
            "    accuracy                           0.71       245\n",
            "   macro avg       0.70      0.70      0.70       245\n",
            "weighted avg       0.71      0.71      0.71       245\n",
            "\n",
            "----------------------------------------------------------------------------------------------------\n",
            "*** Random Forest ***\n",
            "Accuracy: 0.8326530612244898\n",
            "Confusion Matrix:\n",
            "[[ 81  32]\n",
            " [  9 123]]\n",
            "Classification Report:\n",
            "              precision    recall  f1-score   support\n",
            "\n",
            "           0       0.90      0.72      0.80       113\n",
            "           1       0.79      0.93      0.86       132\n",
            "\n",
            "    accuracy                           0.83       245\n",
            "   macro avg       0.85      0.82      0.83       245\n",
            "weighted avg       0.84      0.83      0.83       245\n",
            "\n",
            "----------------------------------------------------------------------------------------------------\n",
            "*** XGBoost ***\n",
            "Accuracy: 0.7510204081632653\n",
            "Confusion Matrix:\n",
            "[[ 64  49]\n",
            " [ 12 120]]\n",
            "Classification Report:\n",
            "              precision    recall  f1-score   support\n",
            "\n",
            "           0       0.84      0.57      0.68       113\n",
            "           1       0.71      0.91      0.80       132\n",
            "\n",
            "    accuracy                           0.75       245\n",
            "   macro avg       0.78      0.74      0.74       245\n",
            "weighted avg       0.77      0.75      0.74       245\n",
            "\n",
            "----------------------------------------------------------------------------------------------------\n",
            "*** KNN ***\n",
            "Accuracy: 0.726530612244898\n",
            "Confusion Matrix:\n",
            "[[ 75  38]\n",
            " [ 29 103]]\n",
            "Classification Report:\n",
            "              precision    recall  f1-score   support\n",
            "\n",
            "           0       0.72      0.66      0.69       113\n",
            "           1       0.73      0.78      0.75       132\n",
            "\n",
            "    accuracy                           0.73       245\n",
            "   macro avg       0.73      0.72      0.72       245\n",
            "weighted avg       0.73      0.73      0.73       245\n",
            "\n",
            "----------------------------------------------------------------------------------------------------\n",
            "Highest Accuracy Model: Random Forest with Accuracy 0.8326530612244898\n"
          ]
        },
        {
          "data": {
            "text/plain": [
              "0.8326530612244898"
            ]
          },
          "execution_count": 59,
          "metadata": {},
          "output_type": "execute_result"
        }
      ],
      "source": [
        "compareModel(X_train, X_test, y_train, y_test)"
      ]
    },
    {
      "cell_type": "code",
      "execution_count": 60,
      "metadata": {},
      "outputs": [
        {
          "name": "stdout",
          "output_type": "stream",
          "text": [
            "8/8 [==============================] - 0s 4ms/step\n",
            "Accuracy: 0.75\n",
            "Confusion Matrix:\n",
            "[[85 28]\n",
            " [33 99]]\n",
            "Classification Report:\n",
            "              precision    recall  f1-score   support\n",
            "\n",
            "     Class 0       0.72      0.75      0.74       113\n",
            "     Class 1       0.78      0.75      0.76       132\n",
            "\n",
            "    accuracy                           0.75       245\n",
            "   macro avg       0.75      0.75      0.75       245\n",
            "weighted avg       0.75      0.75      0.75       245\n",
            "\n"
          ]
        }
      ],
      "source": [
        "# Predict the test data using the trained model\n",
        "y_pred = classifier.predict(X_test)\n",
        "\n",
        "# Convert predicted probabilities to binary labels (0 or 1)\n",
        "y_pred_binary = np.round(y_pred)\n",
        "\n",
        "# Calculate the accuracy of the model on the test data\n",
        "accuracy = accuracy_score(y_test, y_pred_binary)\n",
        "print(f\"Accuracy: {accuracy:.2f}\")\n",
        "\n",
        "# Create a confusion matrix\n",
        "confusion = confusion_matrix(y_test, y_pred_binary)\n",
        "print(\"Confusion Matrix:\")\n",
        "print(confusion)\n",
        "\n",
        "# Generate a classification report\n",
        "report = classification_report(y_test, y_pred_binary, target_names=[\"Class 0\", \"Class 1\"])\n",
        "print(\"Classification Report:\")\n",
        "print(report)\n"
      ]
    },
    {
      "cell_type": "markdown",
      "metadata": {
        "id": "tgGPWZ8vafMr"
      },
      "source": [
        "Comparing model Accuracy before and after applying hyperparameter tuning"
      ]
    },
    {
      "cell_type": "code",
      "execution_count": 61,
      "metadata": {
        "id": "VSE5qOv2aWrO"
      },
      "outputs": [],
      "source": [
        "from sklearn.model_selection import cross_val_score"
      ]
    },
    {
      "cell_type": "code",
      "execution_count": 62,
      "metadata": {
        "id": "Maw31jC2awEy"
      },
      "outputs": [],
      "source": [
        "#Random forest model is selected\n",
        "rf= RandomForestClassifier()\n",
        "rf.fit(X_train,y_train)\n",
        "yPred=rf.predict(X_test)"
      ]
    },
    {
      "cell_type": "code",
      "execution_count": 63,
      "metadata": {
        "colab": {
          "base_uri": "https://localhost:8080/"
        },
        "id": "p7cO5Ih7bzvk",
        "outputId": "16aeff40-251e-4bee-a51c-be8664e4efe4"
      },
      "outputs": [
        {
          "data": {
            "text/plain": [
              "0.8071105365223011"
            ]
          },
          "execution_count": 63,
          "metadata": {},
          "output_type": "execute_result"
        }
      ],
      "source": [
        "f1_score(yPred,y_test,average='weighted')"
      ]
    },
    {
      "cell_type": "code",
      "execution_count": 64,
      "metadata": {
        "id": "HuQPQr90b3Z7"
      },
      "outputs": [],
      "source": [
        "cv=cross_val_score(rf,x,y,cv=5)"
      ]
    },
    {
      "cell_type": "code",
      "execution_count": 65,
      "metadata": {
        "colab": {
          "base_uri": "https://localhost:8080/"
        },
        "id": "YbLJZS61b94u",
        "outputId": "bef6d5ac-7663-4377-b372-c993cd5d8a63"
      },
      "outputs": [
        {
          "data": {
            "text/plain": [
              "0.7850593096094897"
            ]
          },
          "execution_count": 65,
          "metadata": {},
          "output_type": "execute_result"
        }
      ],
      "source": [
        "np.mean(cv)"
      ]
    },
    {
      "cell_type": "code",
      "execution_count": 66,
      "metadata": {},
      "outputs": [
        {
          "name": "stdout",
          "output_type": "stream",
          "text": [
            "Accuracy: 0.8163265306122449\n"
          ]
        }
      ],
      "source": [
        "from sklearn.ensemble import RandomForestClassifier\n",
        "from sklearn.model_selection import GridSearchCV\n",
        "from sklearn.metrics import accuracy_score\n",
        "\n",
        "# Define the hyperparameter grid\n",
        "param_grid = {\n",
        "    'n_estimators': [100, 200, 300],  # Number of trees in the forest\n",
        "    'max_depth': [None, 10, 20, 30],  # Maximum depth of the tree\n",
        "    'min_samples_split': [2, 5, 10],  # Minimum number of samples required to split an internal node\n",
        "    'min_samples_leaf': [1, 2, 4]  # Minimum number of samples required to be at a leaf node\n",
        "}\n",
        "\n",
        "# Create a Random Forest classifier\n",
        "rf = RandomForestClassifier(random_state=42)\n",
        "\n",
        "# Use Grid Search to find the best hyperparameters\n",
        "grid_search = GridSearchCV(estimator=rf, param_grid=param_grid, cv=5, scoring='accuracy', n_jobs=-1)\n",
        "grid_search.fit(X_train, y_train)\n",
        "\n",
        "# Get the best model with optimal hyperparameters\n",
        "best_rf_model = grid_search.best_estimator_\n",
        "\n",
        "# Fit the best model to the training data\n",
        "best_rf_model.fit(X_train, y_train)\n",
        "\n",
        "# Predict on the test set\n",
        "y_pred = best_rf_model.predict(X_test)\n",
        "\n",
        "# Calculate the accuracy on the test set\n",
        "accuracy = accuracy_score(y_test, y_pred)\n",
        "print(\"Accuracy:\", accuracy)\n"
      ]
    },
    {
      "cell_type": "code",
      "execution_count": 67,
      "metadata": {},
      "outputs": [
        {
          "name": "stdout",
          "output_type": "stream",
          "text": [
            "After Tunning Accuracy: 0.8163265306122449\n",
            "Before Tunning Accuracy: 0.8285714285714286\n",
            "***RandomForestClassifier***\n",
            "Confusion Matrix\n",
            "[[ 81  32]\n",
            " [ 13 119]]\n",
            "classification_report\n",
            "              precision    recall  f1-score   support\n",
            "\n",
            "           0       0.86      0.72      0.78       113\n",
            "           1       0.79      0.90      0.84       132\n",
            "\n",
            "    accuracy                           0.82       245\n",
            "   macro avg       0.82      0.81      0.81       245\n",
            "weighted avg       0.82      0.82      0.81       245\n",
            "\n"
          ]
        }
      ],
      "source": [
        "print('After Tunning Accuracy:' , accuracy)\n",
        "print('Before Tunning Accuracy:', highest_accuracy)\n",
        "randomForest(X_train,X_test,y_train,y_test)"
      ]
    },
    {
      "cell_type": "code",
      "execution_count": 68,
      "metadata": {},
      "outputs": [],
      "source": [
        "import pickle\n",
        "\n",
        "# Assuming that grid_search contains the best trained model\n",
        "best_rf_model = grid_search.best_estimator_\n",
        "\n",
        "# Save the model to a file\n",
        "with open('best_rf_model.pkl', 'wb') as model_file:\n",
        "    pickle.dump(best_rf_model, model_file)\n"
      ]
    },
    {
      "cell_type": "code",
      "execution_count": 69,
      "metadata": {},
      "outputs": [],
      "source": [
        "# Load the saved model\n",
        "with open('best_rf_model.pkl', 'rb') as model_file:\n",
        "    loaded_model = pickle.load(model_file)\n",
        "\n",
        "# Now, you can use loaded_model to make predictions"
      ]
    }
  ],
  "metadata": {
    "colab": {
      "provenance": []
    },
    "kernelspec": {
      "display_name": "Python 3",
      "language": "python",
      "name": "python3"
    },
    "language_info": {
      "codemirror_mode": {
        "name": "ipython",
        "version": 3
      },
      "file_extension": ".py",
      "mimetype": "text/x-python",
      "name": "python",
      "nbconvert_exporter": "python",
      "pygments_lexer": "ipython3",
      "version": "3.10.11"
    }
  },
  "nbformat": 4,
  "nbformat_minor": 0
}
